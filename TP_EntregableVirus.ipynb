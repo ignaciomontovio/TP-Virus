{
  "cells": [
    {
      "cell_type": "markdown",
      "metadata": {
        "colab_type": "text",
        "id": "view-in-github"
      },
      "source": [
        "<a href=\"https://colab.research.google.com/github/ignaciomontovio/TP-Virus/blob/Nacho/TP_EntregableVirus.ipynb\" target=\"_parent\"><img src=\"https://colab.research.google.com/assets/colab-badge.svg\" alt=\"Open In Colab\"/></a>"
      ]
    },
    {
      "cell_type": "markdown",
      "metadata": {
        "id": "L2Ht02FO2qB4"
      },
      "source": [
        "# Examen Práctico"
      ]
    },
    {
      "cell_type": "markdown",
      "metadata": {
        "id": "dfqt2DW42qB7"
      },
      "source": [
        "#### 01-3900 | Ciencia de datos | 2024"
      ]
    },
    {
      "cell_type": "markdown",
      "metadata": {
        "id": "U6hj8Kvc2qB8"
      },
      "source": [
        "Alumno:"
      ]
    },
    {
      "cell_type": "markdown",
      "metadata": {
        "id": "B6LptPSN2qB8"
      },
      "source": [
        "## Enunciado"
      ]
    },
    {
      "cell_type": "markdown",
      "metadata": {
        "id": "CDxRU1EE2qB8"
      },
      "source": [
        "Se tienen un dataset con datos de pacientes internados en un hospital (TP_Virus_Alumnos.csv). La clase de interes (1) refiere a la presencia de un virus. El virus tiene normalmente una gravedad leve/baja y el tratamiento suele ser invasivo. Datos como nombre y apellido han sido eliminados y los valores tanto en sangre (BLD), hormonales u otros análisis sobre reactivos han sido alterados en sus valores para preservar la privacidad. Se aclara que no se ha modificado su capacidad predictiva (Si es que la tienen).\n"
      ]
    },
    {
      "cell_type": "markdown",
      "metadata": {
        "id": "sI4C9xTc2qB9"
      },
      "source": [
        "Para su conocimiento: </BR>\n",
        "Datos generales de Edad, Peso, Altura y condición laboral (Activo, Pasivo etc).\n",
        "Datos medidos en hospital:</BR>\n",
        "BLD: Sangre</BR>\n",
        "LVL: Hormonales</BR>\n",
        "REC: Otros análisis</BR>\n",
        "\n",
        "Se pide obtener con los datos disponibles el mejor modelo posible que prediga la presencia o ausencia del virus.\n",
        "Dado que el tratamiento es invasivo y la grevedad es moderada se requiere \"atrapar\" tantos \"1\" como sea posible y minimizar los falsos positivos para evitar que reciban un tratamiento de estas caracteristicas personas que no presentan el virus. Intente obtener el mejor modelo que maximice la métrica que considere correspondiente.\n",
        "\n"
      ]
    },
    {
      "cell_type": "markdown",
      "metadata": {
        "id": "j2wmDxmV2qB9"
      },
      "source": [
        "## Como desarrollar el exámen"
      ]
    },
    {
      "cell_type": "markdown",
      "metadata": {
        "id": "MQtuYVef2qB9"
      },
      "source": [
        "A partir del dataset realice todas las acciones para poder llegar al mejor modelo, explique brevemente en los fundamentos de sus transformaciones o acciones en general."
      ]
    },
    {
      "cell_type": "markdown",
      "metadata": {
        "id": "h134BZGO2qB9"
      },
      "source": [
        "La nota derivará de: </BR>\n",
        "1.La calidad de la clasificación realizada</BR>\n",
        "2.La fundamentación de los pasos realizados</BR>\n",
        "3.Lo sencillo de llevar a producción el desarrollo</BR>\n",
        "\n"
      ]
    },
    {
      "cell_type": "markdown",
      "metadata": {
        "id": "gxB5wX7h2qB-"
      },
      "source": [
        "Los docentes evaluaran su clasificador utilizando un conjunto de datos del dataset \"fuera de la caja\" (out of the box, al que usted no tiene acceso). Para minimizar la posible diferencia entre su medición y la medición del docente recuerde y aplique conceptos de test, validación cruzada y evite los errores comunes de sesgo de selección y fuga de datos (PPT/Pdf Árboles de clasificación) o  Sklearn \"10. Common pitfalls and recommended practices\" disponible en \"https://scikit-learn.org/stable/common_pitfalls.html\"   "
      ]
    },
    {
      "cell_type": "markdown",
      "metadata": {
        "id": "bj2eDmfv2qB-"
      },
      "source": [
        "Al final del notebook encontrará un bloque de código que lee la muestra adicional (a la que usted no tiene acceso) si PRODUCCION==True, en caso contrario solo lee una submuestra del conjunto original para validar que el código funciona. Desarrolle el notebook como considere, para finalmente asignar el mejor clasificador que usted haya obtenido remplazando en f_clf = None, None por su clasificador. Implemente todas las transformaciones entre esa línea y la predición final (Evitando al fuga de datos). Ver TP_AutomatizarTransformaciones.ipynb"
      ]
    },
    {
      "cell_type": "markdown",
      "metadata": {
        "id": "EVc4LBk52qB-"
      },
      "source": [
        "En materiales del MIEL se adjunta un notebook que propone algunas ideas para automatizar el proceso."
      ]
    },
    {
      "cell_type": "markdown",
      "metadata": {
        "id": "6eNhohjT2qB-"
      },
      "source": [
        "### Evaluacion final - Docente + Alumno"
      ]
    },
    {
      "cell_type": "code",
      "execution_count": 1,
      "metadata": {
        "colab": {
          "base_uri": "https://localhost:8080/"
        },
        "id": "4heu2ao12qB_",
        "outputId": "ef4402f9-3491-4b85-b9c5-560a9b259cd5"
      },
      "outputs": [],
      "source": [
        "import pandas as pd\n",
        "import seaborn as sns\n",
        "import matplotlib.pyplot as plt\n",
        "\n",
        "from sklearn import metrics\n",
        "from sklearn.pipeline import Pipeline\n",
        "from sklearn.compose import ColumnTransformer\n",
        "from sklearn.datasets import make_classification\n",
        "from sklearn.preprocessing import StandardScaler\n",
        "from sklearn.metrics import classification_report\n",
        "from sklearn.neighbors import KNeighborsClassifier\n",
        "from sklearn.linear_model import LogisticRegression\n",
        "from sklearn.impute import SimpleImputer, KNNImputer\n",
        "from sklearn.model_selection import train_test_split\n",
        "from sklearn.base import BaseEstimator, TransformerMixin\n",
        "from sklearn.preprocessing import OneHotEncoder, MinMaxScaler, OrdinalEncoder\n",
        "\n",
        "\n",
        "PRODUCCION = False\n",
        "best_clf = None #Asignar aqui el mejor clasificador posible (previamente entrenado)\n",
        "\n",
        "#Leemos el dataset de evaluación, simulando producción\n",
        "if PRODUCCION==False:\n",
        "    df = pd.read_csv(\"TP_Virus_Alumnos.csv\")\n",
        "    _, df = train_test_split(df, test_size=0.3, random_state=42)\n",
        "else:\n",
        "    df = pd.read_csv(\"TP_Virus_Evaluacion.csv\")\n",
        "#Dividimos en target y predictoras\n",
        "\n",
        "X_prod = df.drop(\"target\", axis=1)\n",
        "y_prod = df[\"target\"]\n",
        "\n",
        "#Transformaciones\n",
        "\n",
        "\n",
        "#Evaluación final\n",
        "#y_pred = best_clf.predict(X_prod)\n",
        "#print(classification_report(y_prod, y_pred))\n",
        "# df.shape[0]"
      ]
    },
    {
      "cell_type": "markdown",
      "metadata": {},
      "source": [
        "## Tratamiento de nulos"
      ]
    },
    {
      "cell_type": "markdown",
      "metadata": {
        "id": "KLfkMdcO3Oae"
      },
      "source": [
        "calcular precision\n",
        "\n"
      ]
    },
    {
      "cell_type": "code",
      "execution_count": 12,
      "metadata": {
        "colab": {
          "base_uri": "https://localhost:8080/"
        },
        "id": "9ZDgkPRh61YK",
        "outputId": "7c685546-7849-4914-e906-1fcb960c627c"
      },
      "outputs": [
        {
          "data": {
            "text/plain": [
              "Edad       float64\n",
              "Genero      object\n",
              "Peso       float64\n",
              "Laboral     object\n",
              "hijos        int64\n",
              "BLD01      float64\n",
              "REC1       float64\n",
              "REC2       float64\n",
              "REC3       float64\n",
              "REC4       float64\n",
              "REC5       float64\n",
              "BLD02      float64\n",
              "BLD03      float64\n",
              "LVL        float64\n",
              "target       int64\n",
              "dtype: object"
            ]
          },
          "execution_count": 12,
          "metadata": {},
          "output_type": "execute_result"
        }
      ],
      "source": [
        "# verificamos los tipos de datos\n",
        "df.dtypes"
      ]
    },
    {
      "cell_type": "code",
      "execution_count": 13,
      "metadata": {
        "colab": {
          "base_uri": "https://localhost:8080/"
        },
        "id": "VyhfP0uN613l",
        "outputId": "37ef0b6d-f39c-4b5f-a8ba-7744e07a62dd"
      },
      "outputs": [
        {
          "data": {
            "text/plain": [
              "Edad       252\n",
              "Genero     506\n",
              "Peso         0\n",
              "Laboral      0\n",
              "hijos        0\n",
              "BLD01        0\n",
              "REC1         0\n",
              "REC2         0\n",
              "REC3         0\n",
              "REC4         0\n",
              "REC5         0\n",
              "BLD02        0\n",
              "BLD03        0\n",
              "LVL        169\n",
              "target       0\n",
              "dtype: int64"
            ]
          },
          "execution_count": 13,
          "metadata": {},
          "output_type": "execute_result"
        }
      ],
      "source": [
        "# Verificamos si hay valores nulos para imputar\n",
        "df.isnull().sum()"
      ]
    },
    {
      "cell_type": "markdown",
      "metadata": {},
      "source": [
        "## Analisis de Variables"
      ]
    },
    {
      "cell_type": "markdown",
      "metadata": {},
      "source": [
        "### Correlacion"
      ]
    },
    {
      "cell_type": "code",
      "execution_count": 17,
      "metadata": {
        "colab": {
          "base_uri": "https://localhost:8080/",
          "height": 622
        },
        "id": "R7wQO2EZN1gP",
        "outputId": "3a75e0d1-8f85-4fbe-ff9f-67ebee93ef0e"
      },
      "outputs": [
        {
          "data": {
            "image/png": "[encoded data removed]",
            "text/plain": [
              "<Figure size 1000x700 with 2 Axes>"
            ]
          },
          "metadata": {},
          "output_type": "display_data"
        }
      ],
      "source": [
        "#En la matriz de correlación vemos que edad, peso e hijos estan ampliamente correlacionados.\n",
        "#Las demas variables no poseen correlacion entre ellas, pueden aportar valor.\n",
        "fig, ax = plt.subplots(figsize=(10,7))\n",
        "mat = df.select_dtypes(include=['int', 'float']).corr()\n",
        "sns.heatmap(mat, annot=True, cmap='coolwarm', fmt=\".2f\",  ax=ax)\n",
        "plt.title('Matriz de Correlación')\n",
        "plt.show()"
      ]
    },
    {
      "cell_type": "markdown",
      "metadata": {},
      "source": [
        "### Edad"
      ]
    },
    {
      "cell_type": "code",
      "execution_count": null,
      "metadata": {},
      "outputs": [],
      "source": [
        "# Analisis de la distribución de la variable target \"Edad\"\n",
        "print( df.Edad.value_counts() )\n",
        "sns.countplot(x='Edad', data=df, hue='target', legend=False)"
      ]
    },
    {
      "cell_type": "code",
      "execution_count": null,
      "metadata": {},
      "outputs": [],
      "source": [
        "df[[\"Edad\"]].boxplot()\n",
        "df[[\"Edad\"]].hist()"
      ]
    },
    {
      "cell_type": "code",
      "execution_count": null,
      "metadata": {},
      "outputs": [],
      "source": [
        "df[[\"Edad\"]].describe().T"
      ]
    },
    {
      "cell_type": "code",
      "execution_count": null,
      "metadata": {},
      "outputs": [],
      "source": [
        "df.Edad.value_counts()"
      ]
    },
    {
      "cell_type": "markdown",
      "metadata": {},
      "source": [
        "### Peso"
      ]
    },
    {
      "cell_type": "code",
      "execution_count": null,
      "metadata": {},
      "outputs": [],
      "source": [
        "df[[\"Peso\"]].boxplot()\n",
        "df[[\"Peso\"]].hist()"
      ]
    },
    {
      "cell_type": "code",
      "execution_count": null,
      "metadata": {},
      "outputs": [],
      "source": [
        "df[[\"Peso\"]].describe().T"
      ]
    },
    {
      "cell_type": "code",
      "execution_count": null,
      "metadata": {},
      "outputs": [],
      "source": [
        "df.Peso.value_counts()\n",
        "\n",
        "# Observamos outliers en peso. Los valores atipicos estan relacionados con los recien nacidos, debido a la media del peso de la muestra,\n",
        "# parece ser un valor fuera de lo normal cuando no lo es. Sin embargo que el peso '8.934178..'\n",
        "# sea el único que encuentre repetido varias veces es indicativo de un error en la carga o defectos en la muestra."
      ]
    },
    {
      "cell_type": "markdown",
      "metadata": {},
      "source": [
        "### Hijos"
      ]
    },
    {
      "cell_type": "code",
      "execution_count": null,
      "metadata": {},
      "outputs": [],
      "source": [
        "# Analisis de la distribución de la variable target \"hijos\"\n",
        "print( df.hijos.value_counts() )\n",
        "sns.countplot(x='hijos', data=df, hue='hijos', legend=False)"
      ]
    },
    {
      "cell_type": "markdown",
      "metadata": {},
      "source": [
        "df[[\"hijos\"]].boxplot()\n",
        "df[[\"hijos\"]].hist()"
      ]
    },
    {
      "cell_type": "code",
      "execution_count": null,
      "metadata": {},
      "outputs": [],
      "source": [
        "df[[\"hijos\"]].describe().T"
      ]
    },
    {
      "cell_type": "code",
      "execution_count": null,
      "metadata": {},
      "outputs": [],
      "source": [
        "df.hijos.value_counts()"
      ]
    },
    {
      "cell_type": "markdown",
      "metadata": {},
      "source": [
        "### BLD01"
      ]
    },
    {
      "cell_type": "code",
      "execution_count": null,
      "metadata": {},
      "outputs": [],
      "source": [
        "df[[\"BLD01\"]].boxplot()\n",
        "df[[\"BLD01\"]].hist(bins=30)"
      ]
    },
    {
      "cell_type": "code",
      "execution_count": null,
      "metadata": {},
      "outputs": [],
      "source": [
        "df[[\"BLD01\"]].describe().T"
      ]
    },
    {
      "cell_type": "code",
      "execution_count": null,
      "metadata": {},
      "outputs": [],
      "source": [
        "df.BLD01.value_counts()"
      ]
    },
    {
      "cell_type": "markdown",
      "metadata": {},
      "source": [
        "### BLD02"
      ]
    },
    {
      "cell_type": "code",
      "execution_count": null,
      "metadata": {},
      "outputs": [],
      "source": [
        "df[[\"BLD02\"]].boxplot()\n",
        "df[[\"BLD02\"]].hist()"
      ]
    },
    {
      "cell_type": "code",
      "execution_count": null,
      "metadata": {},
      "outputs": [],
      "source": [
        "df[[\"BLD02\"]].describe().T"
      ]
    },
    {
      "cell_type": "code",
      "execution_count": null,
      "metadata": {},
      "outputs": [],
      "source": [
        "print(df.BLD02.value_counts())"
      ]
    },
    {
      "cell_type": "markdown",
      "metadata": {},
      "source": [
        "### BLD03"
      ]
    },
    {
      "cell_type": "code",
      "execution_count": null,
      "metadata": {},
      "outputs": [],
      "source": [
        "df[[\"BLD03\"]].boxplot()\n",
        "df[[\"BLD03\"]].hist()"
      ]
    },
    {
      "cell_type": "code",
      "execution_count": null,
      "metadata": {},
      "outputs": [],
      "source": [
        "df[[\"BLD03\"]].describe().T"
      ]
    },
    {
      "cell_type": "code",
      "execution_count": null,
      "metadata": {},
      "outputs": [],
      "source": [
        "df.BLD03.value_counts()"
      ]
    },
    {
      "cell_type": "markdown",
      "metadata": {},
      "source": [
        "### REC1"
      ]
    },
    {
      "cell_type": "code",
      "execution_count": null,
      "metadata": {},
      "outputs": [],
      "source": [
        "df[[\"REC1\"]].boxplot()\n",
        "df[[\"REC1\"]].hist()"
      ]
    },
    {
      "cell_type": "code",
      "execution_count": null,
      "metadata": {},
      "outputs": [],
      "source": [
        "df[[\"REC1\"]].describe().T"
      ]
    },
    {
      "cell_type": "code",
      "execution_count": null,
      "metadata": {},
      "outputs": [],
      "source": [
        "df.REC1.value_counts()"
      ]
    },
    {
      "cell_type": "markdown",
      "metadata": {},
      "source": [
        "### REC2"
      ]
    },
    {
      "cell_type": "code",
      "execution_count": null,
      "metadata": {},
      "outputs": [],
      "source": [
        "df[[\"REC2\"]].boxplot()\n",
        "df[[\"REC2\"]].hist()"
      ]
    },
    {
      "cell_type": "code",
      "execution_count": null,
      "metadata": {},
      "outputs": [],
      "source": [
        "df[[\"REC2\"]].describe().T"
      ]
    },
    {
      "cell_type": "code",
      "execution_count": null,
      "metadata": {},
      "outputs": [],
      "source": [
        "df.REC2.value_counts()"
      ]
    },
    {
      "cell_type": "markdown",
      "metadata": {},
      "source": [
        "### REC3"
      ]
    },
    {
      "cell_type": "code",
      "execution_count": null,
      "metadata": {},
      "outputs": [],
      "source": [
        "df[[\"REC3\"]].boxplot()\n",
        "df[[\"REC3\"]].hist()"
      ]
    },
    {
      "cell_type": "code",
      "execution_count": null,
      "metadata": {},
      "outputs": [],
      "source": [
        "df[[\"REC3\"]].describe().T"
      ]
    },
    {
      "cell_type": "code",
      "execution_count": null,
      "metadata": {},
      "outputs": [],
      "source": [
        "df.REC3.value_counts()"
      ]
    },
    {
      "cell_type": "markdown",
      "metadata": {},
      "source": [
        "### REC4"
      ]
    },
    {
      "cell_type": "code",
      "execution_count": null,
      "metadata": {},
      "outputs": [],
      "source": [
        "df[[\"REC4\"]].boxplot()\n",
        "df[[\"REC4\"]].hist()"
      ]
    },
    {
      "cell_type": "code",
      "execution_count": null,
      "metadata": {},
      "outputs": [],
      "source": [
        "df[[\"REC4\"]].describe().T"
      ]
    },
    {
      "cell_type": "code",
      "execution_count": null,
      "metadata": {},
      "outputs": [],
      "source": [
        "df.REC4.value_counts()"
      ]
    },
    {
      "cell_type": "markdown",
      "metadata": {},
      "source": [
        "### REC5"
      ]
    },
    {
      "cell_type": "code",
      "execution_count": null,
      "metadata": {},
      "outputs": [],
      "source": [
        "df[[\"REC5\"]].boxplot()\n",
        "df[[\"REC5\"]].hist()"
      ]
    },
    {
      "cell_type": "code",
      "execution_count": null,
      "metadata": {},
      "outputs": [],
      "source": [
        "df[[\"REC5\"]].describe().T"
      ]
    },
    {
      "cell_type": "code",
      "execution_count": null,
      "metadata": {},
      "outputs": [],
      "source": [
        "df.REC5.value_counts()"
      ]
    },
    {
      "cell_type": "markdown",
      "metadata": {},
      "source": [
        "### Conclusiones y preguntas\n",
        "\n",
        "Las variables BLD01, BLD02, BLD03, REC1, REC2, REC3, REC4 y REC5, tienen outliers casi en ambos extremos, dice en el enunciado que estas variables fueron alteradas en sus valores para preservar la privacidad de las personas. Quizas eso afecto su distribución?\n",
        "Estoy dudando si eliminarlas o tratarlas porque las variables Peso y LVL tambien muestran outliers pero en sus limites inferiores. Que se explica con que la muestra contiene recien nacidos y personas muy jovenes, por lo que no creo que se necesite tratarlas."
      ]
    },
    {
      "cell_type": "code",
      "execution_count": null,
      "metadata": {},
      "outputs": [],
      "source": [
        "#No hay duplicados.\n",
        "print(\"Cantidad:\",  df.duplicated().sum())"
      ]
    },
    {
      "cell_type": "markdown",
      "metadata": {},
      "source": [
        "## Tratamiento de variables"
      ]
    },
    {
      "cell_type": "code",
      "execution_count": 18,
      "metadata": {
        "colab": {
          "base_uri": "https://localhost:8080/",
          "height": 443
        },
        "id": "TsxtvxLQWTmW",
        "outputId": "fe0cef29-0ea1-4c9e-90e8-9a0dd3556ae9"
      },
      "outputs": [
        {
          "name": "stderr",
          "output_type": "stream",
          "text": [
            "C:\\Users\\lauti\\AppData\\Local\\Temp\\ipykernel_4484\\2521962496.py:7: FutureWarning: A value is trying to be set on a copy of a DataFrame or Series through chained assignment using an inplace method.\n",
            "The behavior will change in pandas 3.0. This inplace method will never work because the intermediate object on which we are setting values always behaves as a copy.\n",
            "\n",
            "For example, when doing 'df[col].method(value, inplace=True)', try using 'df.method({col: value}, inplace=True)' or df[col] = df[col].method(value) instead, to perform the operation inplace on the original object.\n",
            "\n",
            "\n",
            "  df_norm[\"Genero\"].fillna('Desconocido', inplace=True)\n"
          ]
        },
        {
          "data": {
            "text/html": [
              "<div>\n",
              "<style scoped>\n",
              "    .dataframe tbody tr th:only-of-type {\n",
              "        vertical-align: middle;\n",
              "    }\n",
              "\n",
              "    .dataframe tbody tr th {\n",
              "        vertical-align: top;\n",
              "    }\n",
              "\n",
              "    .dataframe thead th {\n",
              "        text-align: right;\n",
              "    }\n",
              "</style>\n",
              "<table border=\"1\" class=\"dataframe\">\n",
              "  <thead>\n",
              "    <tr style=\"text-align: right;\">\n",
              "      <th></th>\n",
              "      <th>Edad</th>\n",
              "      <th>Peso</th>\n",
              "      <th>Laboral</th>\n",
              "      <th>hijos</th>\n",
              "      <th>BLD01</th>\n",
              "      <th>REC1</th>\n",
              "      <th>REC2</th>\n",
              "      <th>REC3</th>\n",
              "      <th>REC4</th>\n",
              "      <th>REC5</th>\n",
              "      <th>BLD02</th>\n",
              "      <th>BLD03</th>\n",
              "      <th>LVL</th>\n",
              "      <th>target</th>\n",
              "      <th>Genero_Norm</th>\n",
              "    </tr>\n",
              "  </thead>\n",
              "  <tbody>\n",
              "    <tr>\n",
              "      <th>1743</th>\n",
              "      <td>77.0</td>\n",
              "      <td>84.074534</td>\n",
              "      <td>Inactivo</td>\n",
              "      <td>3</td>\n",
              "      <td>0.375782</td>\n",
              "      <td>2.961876</td>\n",
              "      <td>64.048710</td>\n",
              "      <td>72.270697</td>\n",
              "      <td>15.043639</td>\n",
              "      <td>90.859844</td>\n",
              "      <td>0.077492</td>\n",
              "      <td>-0.228808</td>\n",
              "      <td>102.661021</td>\n",
              "      <td>0</td>\n",
              "      <td>3.0</td>\n",
              "    </tr>\n",
              "    <tr>\n",
              "      <th>2196</th>\n",
              "      <td>16.0</td>\n",
              "      <td>55.164510</td>\n",
              "      <td>Inactivo</td>\n",
              "      <td>0</td>\n",
              "      <td>0.619332</td>\n",
              "      <td>4.294339</td>\n",
              "      <td>64.405900</td>\n",
              "      <td>72.526952</td>\n",
              "      <td>15.105464</td>\n",
              "      <td>89.989833</td>\n",
              "      <td>1.499740</td>\n",
              "      <td>1.018183</td>\n",
              "      <td>54.440668</td>\n",
              "      <td>0</td>\n",
              "      <td>3.0</td>\n",
              "    </tr>\n",
              "    <tr>\n",
              "      <th>1728</th>\n",
              "      <td>33.0</td>\n",
              "      <td>96.989635</td>\n",
              "      <td>Activo</td>\n",
              "      <td>3</td>\n",
              "      <td>0.681815</td>\n",
              "      <td>0.205533</td>\n",
              "      <td>63.620074</td>\n",
              "      <td>74.003218</td>\n",
              "      <td>13.556009</td>\n",
              "      <td>90.203537</td>\n",
              "      <td>1.706436</td>\n",
              "      <td>-0.221466</td>\n",
              "      <td>NaN</td>\n",
              "      <td>0</td>\n",
              "      <td>3.0</td>\n",
              "    </tr>\n",
              "    <tr>\n",
              "      <th>3337</th>\n",
              "      <td>16.0</td>\n",
              "      <td>66.278474</td>\n",
              "      <td>Inactivo</td>\n",
              "      <td>0</td>\n",
              "      <td>1.071266</td>\n",
              "      <td>5.365205</td>\n",
              "      <td>64.249131</td>\n",
              "      <td>70.646960</td>\n",
              "      <td>16.434534</td>\n",
              "      <td>88.942036</td>\n",
              "      <td>2.580401</td>\n",
              "      <td>2.277183</td>\n",
              "      <td>81.210222</td>\n",
              "      <td>1</td>\n",
              "      <td>3.0</td>\n",
              "    </tr>\n",
              "    <tr>\n",
              "      <th>298</th>\n",
              "      <td>20.0</td>\n",
              "      <td>59.600519</td>\n",
              "      <td>Inactivo</td>\n",
              "      <td>0</td>\n",
              "      <td>0.232450</td>\n",
              "      <td>4.283054</td>\n",
              "      <td>63.888403</td>\n",
              "      <td>72.929113</td>\n",
              "      <td>14.466798</td>\n",
              "      <td>88.326169</td>\n",
              "      <td>1.707526</td>\n",
              "      <td>0.342074</td>\n",
              "      <td>66.397177</td>\n",
              "      <td>0</td>\n",
              "      <td>3.0</td>\n",
              "    </tr>\n",
              "    <tr>\n",
              "      <th>...</th>\n",
              "      <td>...</td>\n",
              "      <td>...</td>\n",
              "      <td>...</td>\n",
              "      <td>...</td>\n",
              "      <td>...</td>\n",
              "      <td>...</td>\n",
              "      <td>...</td>\n",
              "      <td>...</td>\n",
              "      <td>...</td>\n",
              "      <td>...</td>\n",
              "      <td>...</td>\n",
              "      <td>...</td>\n",
              "      <td>...</td>\n",
              "      <td>...</td>\n",
              "      <td>...</td>\n",
              "    </tr>\n",
              "    <tr>\n",
              "      <th>1992</th>\n",
              "      <td>71.0</td>\n",
              "      <td>86.545914</td>\n",
              "      <td>Activo</td>\n",
              "      <td>3</td>\n",
              "      <td>0.665836</td>\n",
              "      <td>7.084822</td>\n",
              "      <td>64.289545</td>\n",
              "      <td>71.209685</td>\n",
              "      <td>17.067810</td>\n",
              "      <td>90.798501</td>\n",
              "      <td>1.942347</td>\n",
              "      <td>-0.180673</td>\n",
              "      <td>129.772580</td>\n",
              "      <td>0</td>\n",
              "      <td>0.0</td>\n",
              "    </tr>\n",
              "    <tr>\n",
              "      <th>3924</th>\n",
              "      <td>39.0</td>\n",
              "      <td>89.972114</td>\n",
              "      <td>Activo</td>\n",
              "      <td>0</td>\n",
              "      <td>1.792074</td>\n",
              "      <td>4.371774</td>\n",
              "      <td>62.569799</td>\n",
              "      <td>75.303991</td>\n",
              "      <td>14.483086</td>\n",
              "      <td>89.743241</td>\n",
              "      <td>0.764243</td>\n",
              "      <td>-0.640510</td>\n",
              "      <td>120.872766</td>\n",
              "      <td>0</td>\n",
              "      <td>3.0</td>\n",
              "    </tr>\n",
              "    <tr>\n",
              "      <th>1105</th>\n",
              "      <td>37.0</td>\n",
              "      <td>90.573156</td>\n",
              "      <td>Inactivo</td>\n",
              "      <td>2</td>\n",
              "      <td>0.962825</td>\n",
              "      <td>4.727052</td>\n",
              "      <td>62.995944</td>\n",
              "      <td>71.329273</td>\n",
              "      <td>14.940329</td>\n",
              "      <td>90.101096</td>\n",
              "      <td>0.959413</td>\n",
              "      <td>1.234340</td>\n",
              "      <td>1000000.000000</td>\n",
              "      <td>0</td>\n",
              "      <td>3.0</td>\n",
              "    </tr>\n",
              "    <tr>\n",
              "      <th>1615</th>\n",
              "      <td>9.0</td>\n",
              "      <td>37.043624</td>\n",
              "      <td>Inactivo</td>\n",
              "      <td>0</td>\n",
              "      <td>-0.024500</td>\n",
              "      <td>2.408985</td>\n",
              "      <td>62.673418</td>\n",
              "      <td>70.392780</td>\n",
              "      <td>15.461289</td>\n",
              "      <td>89.427834</td>\n",
              "      <td>1.005513</td>\n",
              "      <td>0.096165</td>\n",
              "      <td>1000000.000000</td>\n",
              "      <td>0</td>\n",
              "      <td>1.0</td>\n",
              "    </tr>\n",
              "    <tr>\n",
              "      <th>1556</th>\n",
              "      <td>70.0</td>\n",
              "      <td>75.349012</td>\n",
              "      <td>Inactivo</td>\n",
              "      <td>3</td>\n",
              "      <td>0.717138</td>\n",
              "      <td>1.604982</td>\n",
              "      <td>64.711518</td>\n",
              "      <td>72.625727</td>\n",
              "      <td>15.150221</td>\n",
              "      <td>90.862181</td>\n",
              "      <td>1.018478</td>\n",
              "      <td>-0.192953</td>\n",
              "      <td>111.279031</td>\n",
              "      <td>0</td>\n",
              "      <td>0.0</td>\n",
              "    </tr>\n",
              "  </tbody>\n",
              "</table>\n",
              "<p>1260 rows × 15 columns</p>\n",
              "</div>"
            ],
            "text/plain": [
              "      Edad       Peso   Laboral  hijos     BLD01      REC1       REC2  \\\n",
              "1743  77.0  84.074534  Inactivo      3  0.375782  2.961876  64.048710   \n",
              "2196  16.0  55.164510  Inactivo      0  0.619332  4.294339  64.405900   \n",
              "1728  33.0  96.989635    Activo      3  0.681815  0.205533  63.620074   \n",
              "3337  16.0  66.278474  Inactivo      0  1.071266  5.365205  64.249131   \n",
              "298   20.0  59.600519  Inactivo      0  0.232450  4.283054  63.888403   \n",
              "...    ...        ...       ...    ...       ...       ...        ...   \n",
              "1992  71.0  86.545914    Activo      3  0.665836  7.084822  64.289545   \n",
              "3924  39.0  89.972114    Activo      0  1.792074  4.371774  62.569799   \n",
              "1105  37.0  90.573156  Inactivo      2  0.962825  4.727052  62.995944   \n",
              "1615   9.0  37.043624  Inactivo      0 -0.024500  2.408985  62.673418   \n",
              "1556  70.0  75.349012  Inactivo      3  0.717138  1.604982  64.711518   \n",
              "\n",
              "           REC3       REC4       REC5     BLD02     BLD03             LVL  \\\n",
              "1743  72.270697  15.043639  90.859844  0.077492 -0.228808      102.661021   \n",
              "2196  72.526952  15.105464  89.989833  1.499740  1.018183       54.440668   \n",
              "1728  74.003218  13.556009  90.203537  1.706436 -0.221466             NaN   \n",
              "3337  70.646960  16.434534  88.942036  2.580401  2.277183       81.210222   \n",
              "298   72.929113  14.466798  88.326169  1.707526  0.342074       66.397177   \n",
              "...         ...        ...        ...       ...       ...             ...   \n",
              "1992  71.209685  17.067810  90.798501  1.942347 -0.180673      129.772580   \n",
              "3924  75.303991  14.483086  89.743241  0.764243 -0.640510      120.872766   \n",
              "1105  71.329273  14.940329  90.101096  0.959413  1.234340  1000000.000000   \n",
              "1615  70.392780  15.461289  89.427834  1.005513  0.096165  1000000.000000   \n",
              "1556  72.625727  15.150221  90.862181  1.018478 -0.192953      111.279031   \n",
              "\n",
              "      target  Genero_Norm  \n",
              "1743       0          3.0  \n",
              "2196       0          3.0  \n",
              "1728       0          3.0  \n",
              "3337       1          3.0  \n",
              "298        0          3.0  \n",
              "...      ...          ...  \n",
              "1992       0          0.0  \n",
              "3924       0          3.0  \n",
              "1105       0          3.0  \n",
              "1615       0          1.0  \n",
              "1556       0          0.0  \n",
              "\n",
              "[1260 rows x 15 columns]"
            ]
          },
          "execution_count": 18,
          "metadata": {},
          "output_type": "execute_result"
        }
      ],
      "source": [
        "#Normalizo la columna genero\n",
        "from sklearn.preprocessing import OrdinalEncoder\n",
        "\n",
        "ord_enc = OrdinalEncoder(categories=[[\"Masculino\", \"Femenino\",\"Otro\",\"Desconocido\"]])\n",
        "df_norm = df\n",
        "# Reemplazar los valores NaN por 'Desconocido'\n",
        "df_norm[\"Genero\"].fillna('Desconocido', inplace=True)\n",
        "\n",
        "df_norm[\"Genero_Norm\"] = ord_enc.fit(df_norm[[\"Genero\"]]).transform(df_norm[[\"Genero\"]])\n",
        "df_norm.drop(columns=['Genero'], inplace=True)\n",
        "df_norm"
      ]
    },
    {
      "cell_type": "code",
      "execution_count": 19,
      "metadata": {
        "colab": {
          "base_uri": "https://localhost:8080/",
          "height": 443
        },
        "id": "AGJtJI_IS9Ba",
        "outputId": "a3d36473-ccbf-47ae-8c75-4c1e4124f7f0"
      },
      "outputs": [
        {
          "data": {
            "text/html": [
              "<div>\n",
              "<style scoped>\n",
              "    .dataframe tbody tr th:only-of-type {\n",
              "        vertical-align: middle;\n",
              "    }\n",
              "\n",
              "    .dataframe tbody tr th {\n",
              "        vertical-align: top;\n",
              "    }\n",
              "\n",
              "    .dataframe thead th {\n",
              "        text-align: right;\n",
              "    }\n",
              "</style>\n",
              "<table border=\"1\" class=\"dataframe\">\n",
              "  <thead>\n",
              "    <tr style=\"text-align: right;\">\n",
              "      <th></th>\n",
              "      <th>Edad</th>\n",
              "      <th>Peso</th>\n",
              "      <th>hijos</th>\n",
              "      <th>BLD01</th>\n",
              "      <th>REC1</th>\n",
              "      <th>REC2</th>\n",
              "      <th>REC3</th>\n",
              "      <th>REC4</th>\n",
              "      <th>REC5</th>\n",
              "      <th>BLD02</th>\n",
              "      <th>BLD03</th>\n",
              "      <th>LVL</th>\n",
              "      <th>target</th>\n",
              "      <th>Genero_Norm</th>\n",
              "      <th>Laboral_Norm</th>\n",
              "    </tr>\n",
              "  </thead>\n",
              "  <tbody>\n",
              "    <tr>\n",
              "      <th>1743</th>\n",
              "      <td>77.0</td>\n",
              "      <td>84.074534</td>\n",
              "      <td>3</td>\n",
              "      <td>0.375782</td>\n",
              "      <td>2.961876</td>\n",
              "      <td>64.048710</td>\n",
              "      <td>72.270697</td>\n",
              "      <td>15.043639</td>\n",
              "      <td>90.859844</td>\n",
              "      <td>0.077492</td>\n",
              "      <td>-0.228808</td>\n",
              "      <td>102.661021</td>\n",
              "      <td>0</td>\n",
              "      <td>3.0</td>\n",
              "      <td>1.0</td>\n",
              "    </tr>\n",
              "    <tr>\n",
              "      <th>2196</th>\n",
              "      <td>16.0</td>\n",
              "      <td>55.164510</td>\n",
              "      <td>0</td>\n",
              "      <td>0.619332</td>\n",
              "      <td>4.294339</td>\n",
              "      <td>64.405900</td>\n",
              "      <td>72.526952</td>\n",
              "      <td>15.105464</td>\n",
              "      <td>89.989833</td>\n",
              "      <td>1.499740</td>\n",
              "      <td>1.018183</td>\n",
              "      <td>54.440668</td>\n",
              "      <td>0</td>\n",
              "      <td>3.0</td>\n",
              "      <td>1.0</td>\n",
              "    </tr>\n",
              "    <tr>\n",
              "      <th>1728</th>\n",
              "      <td>33.0</td>\n",
              "      <td>96.989635</td>\n",
              "      <td>3</td>\n",
              "      <td>0.681815</td>\n",
              "      <td>0.205533</td>\n",
              "      <td>63.620074</td>\n",
              "      <td>74.003218</td>\n",
              "      <td>13.556009</td>\n",
              "      <td>90.203537</td>\n",
              "      <td>1.706436</td>\n",
              "      <td>-0.221466</td>\n",
              "      <td>NaN</td>\n",
              "      <td>0</td>\n",
              "      <td>3.0</td>\n",
              "      <td>0.0</td>\n",
              "    </tr>\n",
              "    <tr>\n",
              "      <th>3337</th>\n",
              "      <td>16.0</td>\n",
              "      <td>66.278474</td>\n",
              "      <td>0</td>\n",
              "      <td>1.071266</td>\n",
              "      <td>5.365205</td>\n",
              "      <td>64.249131</td>\n",
              "      <td>70.646960</td>\n",
              "      <td>16.434534</td>\n",
              "      <td>88.942036</td>\n",
              "      <td>2.580401</td>\n",
              "      <td>2.277183</td>\n",
              "      <td>81.210222</td>\n",
              "      <td>1</td>\n",
              "      <td>3.0</td>\n",
              "      <td>1.0</td>\n",
              "    </tr>\n",
              "    <tr>\n",
              "      <th>298</th>\n",
              "      <td>20.0</td>\n",
              "      <td>59.600519</td>\n",
              "      <td>0</td>\n",
              "      <td>0.232450</td>\n",
              "      <td>4.283054</td>\n",
              "      <td>63.888403</td>\n",
              "      <td>72.929113</td>\n",
              "      <td>14.466798</td>\n",
              "      <td>88.326169</td>\n",
              "      <td>1.707526</td>\n",
              "      <td>0.342074</td>\n",
              "      <td>66.397177</td>\n",
              "      <td>0</td>\n",
              "      <td>3.0</td>\n",
              "      <td>1.0</td>\n",
              "    </tr>\n",
              "    <tr>\n",
              "      <th>...</th>\n",
              "      <td>...</td>\n",
              "      <td>...</td>\n",
              "      <td>...</td>\n",
              "      <td>...</td>\n",
              "      <td>...</td>\n",
              "      <td>...</td>\n",
              "      <td>...</td>\n",
              "      <td>...</td>\n",
              "      <td>...</td>\n",
              "      <td>...</td>\n",
              "      <td>...</td>\n",
              "      <td>...</td>\n",
              "      <td>...</td>\n",
              "      <td>...</td>\n",
              "      <td>...</td>\n",
              "    </tr>\n",
              "    <tr>\n",
              "      <th>1992</th>\n",
              "      <td>71.0</td>\n",
              "      <td>86.545914</td>\n",
              "      <td>3</td>\n",
              "      <td>0.665836</td>\n",
              "      <td>7.084822</td>\n",
              "      <td>64.289545</td>\n",
              "      <td>71.209685</td>\n",
              "      <td>17.067810</td>\n",
              "      <td>90.798501</td>\n",
              "      <td>1.942347</td>\n",
              "      <td>-0.180673</td>\n",
              "      <td>129.772580</td>\n",
              "      <td>0</td>\n",
              "      <td>0.0</td>\n",
              "      <td>0.0</td>\n",
              "    </tr>\n",
              "    <tr>\n",
              "      <th>3924</th>\n",
              "      <td>39.0</td>\n",
              "      <td>89.972114</td>\n",
              "      <td>0</td>\n",
              "      <td>1.792074</td>\n",
              "      <td>4.371774</td>\n",
              "      <td>62.569799</td>\n",
              "      <td>75.303991</td>\n",
              "      <td>14.483086</td>\n",
              "      <td>89.743241</td>\n",
              "      <td>0.764243</td>\n",
              "      <td>-0.640510</td>\n",
              "      <td>120.872766</td>\n",
              "      <td>0</td>\n",
              "      <td>3.0</td>\n",
              "      <td>0.0</td>\n",
              "    </tr>\n",
              "    <tr>\n",
              "      <th>1105</th>\n",
              "      <td>37.0</td>\n",
              "      <td>90.573156</td>\n",
              "      <td>2</td>\n",
              "      <td>0.962825</td>\n",
              "      <td>4.727052</td>\n",
              "      <td>62.995944</td>\n",
              "      <td>71.329273</td>\n",
              "      <td>14.940329</td>\n",
              "      <td>90.101096</td>\n",
              "      <td>0.959413</td>\n",
              "      <td>1.234340</td>\n",
              "      <td>1000000.000000</td>\n",
              "      <td>0</td>\n",
              "      <td>3.0</td>\n",
              "      <td>1.0</td>\n",
              "    </tr>\n",
              "    <tr>\n",
              "      <th>1615</th>\n",
              "      <td>9.0</td>\n",
              "      <td>37.043624</td>\n",
              "      <td>0</td>\n",
              "      <td>-0.024500</td>\n",
              "      <td>2.408985</td>\n",
              "      <td>62.673418</td>\n",
              "      <td>70.392780</td>\n",
              "      <td>15.461289</td>\n",
              "      <td>89.427834</td>\n",
              "      <td>1.005513</td>\n",
              "      <td>0.096165</td>\n",
              "      <td>1000000.000000</td>\n",
              "      <td>0</td>\n",
              "      <td>1.0</td>\n",
              "      <td>1.0</td>\n",
              "    </tr>\n",
              "    <tr>\n",
              "      <th>1556</th>\n",
              "      <td>70.0</td>\n",
              "      <td>75.349012</td>\n",
              "      <td>3</td>\n",
              "      <td>0.717138</td>\n",
              "      <td>1.604982</td>\n",
              "      <td>64.711518</td>\n",
              "      <td>72.625727</td>\n",
              "      <td>15.150221</td>\n",
              "      <td>90.862181</td>\n",
              "      <td>1.018478</td>\n",
              "      <td>-0.192953</td>\n",
              "      <td>111.279031</td>\n",
              "      <td>0</td>\n",
              "      <td>0.0</td>\n",
              "      <td>1.0</td>\n",
              "    </tr>\n",
              "  </tbody>\n",
              "</table>\n",
              "<p>1260 rows × 15 columns</p>\n",
              "</div>"
            ],
            "text/plain": [
              "      Edad       Peso  hijos     BLD01      REC1       REC2       REC3  \\\n",
              "1743  77.0  84.074534      3  0.375782  2.961876  64.048710  72.270697   \n",
              "2196  16.0  55.164510      0  0.619332  4.294339  64.405900  72.526952   \n",
              "1728  33.0  96.989635      3  0.681815  0.205533  63.620074  74.003218   \n",
              "3337  16.0  66.278474      0  1.071266  5.365205  64.249131  70.646960   \n",
              "298   20.0  59.600519      0  0.232450  4.283054  63.888403  72.929113   \n",
              "...    ...        ...    ...       ...       ...        ...        ...   \n",
              "1992  71.0  86.545914      3  0.665836  7.084822  64.289545  71.209685   \n",
              "3924  39.0  89.972114      0  1.792074  4.371774  62.569799  75.303991   \n",
              "1105  37.0  90.573156      2  0.962825  4.727052  62.995944  71.329273   \n",
              "1615   9.0  37.043624      0 -0.024500  2.408985  62.673418  70.392780   \n",
              "1556  70.0  75.349012      3  0.717138  1.604982  64.711518  72.625727   \n",
              "\n",
              "           REC4       REC5     BLD02     BLD03             LVL  target  \\\n",
              "1743  15.043639  90.859844  0.077492 -0.228808      102.661021       0   \n",
              "2196  15.105464  89.989833  1.499740  1.018183       54.440668       0   \n",
              "1728  13.556009  90.203537  1.706436 -0.221466             NaN       0   \n",
              "3337  16.434534  88.942036  2.580401  2.277183       81.210222       1   \n",
              "298   14.466798  88.326169  1.707526  0.342074       66.397177       0   \n",
              "...         ...        ...       ...       ...             ...     ...   \n",
              "1992  17.067810  90.798501  1.942347 -0.180673      129.772580       0   \n",
              "3924  14.483086  89.743241  0.764243 -0.640510      120.872766       0   \n",
              "1105  14.940329  90.101096  0.959413  1.234340  1000000.000000       0   \n",
              "1615  15.461289  89.427834  1.005513  0.096165  1000000.000000       0   \n",
              "1556  15.150221  90.862181  1.018478 -0.192953      111.279031       0   \n",
              "\n",
              "      Genero_Norm  Laboral_Norm  \n",
              "1743          3.0           1.0  \n",
              "2196          3.0           1.0  \n",
              "1728          3.0           0.0  \n",
              "3337          3.0           1.0  \n",
              "298           3.0           1.0  \n",
              "...           ...           ...  \n",
              "1992          0.0           0.0  \n",
              "3924          3.0           0.0  \n",
              "1105          3.0           1.0  \n",
              "1615          1.0           1.0  \n",
              "1556          0.0           1.0  \n",
              "\n",
              "[1260 rows x 15 columns]"
            ]
          },
          "execution_count": 19,
          "metadata": {},
          "output_type": "execute_result"
        }
      ],
      "source": [
        "#Normalizo la columna laboral\n",
        "from sklearn.preprocessing import OrdinalEncoder\n",
        "\n",
        "ord_enc = OrdinalEncoder(categories=[[\"Activo\", \"Inactivo\",\"No_declara\"]])\n",
        "df_normalize = df_norm\n",
        "# Reemplazar los valores NaN por 'Desconocido'\n",
        "#df_norm[\"Laboral\"].fillna('Desconocido', inplace=True)\n",
        "\n",
        "df_normalize[\"Laboral_Norm\"] = ord_enc.fit(df_norm[[\"Laboral\"]]).transform(df_norm[[\"Laboral\"]])\n",
        "df_normalize.drop(columns=['Laboral'], inplace=True)\n",
        "df_normalize"
      ]
    },
    {
      "cell_type": "code",
      "execution_count": 20,
      "metadata": {
        "id": "mnBSRvoKihqo"
      },
      "outputs": [],
      "source": [
        "#Elimino los nulos en LVL\n",
        "df_normalize = df_normalize.dropna(subset=['LVL'])\n",
        "df_normalize = df_normalize.dropna(subset=['Edad'])"
      ]
    },
    {
      "cell_type": "code",
      "execution_count": 21,
      "metadata": {
        "id": "R22sWZRXS9nf"
      },
      "outputs": [],
      "source": [
        "def preparacion_de_datos(df_input, target, escalar_valores=False):\n",
        "  df = df_input\n",
        "  if escalar_valores:\n",
        "    scaler_X = StandardScaler(with_mean=True, with_std=True)\n",
        "    scaler_X.fit(df.drop(target,axis=1))\n",
        "    x = pd.DataFrame(scaler_X.transform(df.drop(target,axis=1),), columns = df.drop(target,axis=1).columns )\n",
        "  else:\n",
        "    x = df.drop(target,axis=1)\n",
        "  y = df[target]\n",
        "  return x,y"
      ]
    },
    {
      "cell_type": "code",
      "execution_count": 22,
      "metadata": {
        "id": "SHYXQ68oTNwn"
      },
      "outputs": [],
      "source": [
        "X_virus, y_virus = preparacion_de_datos( df_normalize, \"target\" ,escalar_valores=False)"
      ]
    },
    {
      "cell_type": "code",
      "execution_count": 23,
      "metadata": {
        "id": "aozN57jDTT6E"
      },
      "outputs": [],
      "source": [
        "# Hacemos el Split 70-30 para train-test\n",
        "X_train, X_test, y_train, y_test = train_test_split(X_virus, y_virus,\n",
        "                                                    test_size=0.3, stratify = y_virus, random_state=0)"
      ]
    },
    {
      "cell_type": "markdown",
      "metadata": {},
      "source": [
        "## Evaluacion de modelos"
      ]
    },
    {
      "cell_type": "code",
      "execution_count": 24,
      "metadata": {
        "id": "HV61kySETZdC"
      },
      "outputs": [],
      "source": [
        "from sklearn.linear_model import LogisticRegression\n",
        "from sklearn.naive_bayes import MultinomialNB\n",
        "from sklearn.naive_bayes import GaussianNB\n",
        "from sklearn.tree import DecisionTreeClassifier\n",
        "from sklearn.neighbors import KNeighborsClassifier\n",
        "\n",
        "logreg = LogisticRegression( max_iter=3000 )\n",
        "logreg.fit(X_train, y_train)\n",
        "y_pred_lg = logreg.predict(X_test)\n",
        "\n",
        "treeclf = DecisionTreeClassifier(max_depth=10, random_state=1)\n",
        "treeclf.fit(X_train, y_train)\n",
        "y_pred_tc = treeclf.predict(X_test)\n",
        "\n",
        "#bayes_multi = MultinomialNB()\n",
        "#bayes_multi.fit(X_train, y_train)\n",
        "#y_pred_nb = bayes_multi.predict(X_test)\n",
        "\n",
        "bayes_gauss = GaussianNB()\n",
        "bayes_gauss.fit(X_train, y_train)\n",
        "y_pred_gauss = bayes_gauss.predict(X_test)\n",
        "\n",
        "knn = DecisionTreeClassifier(max_depth=10, random_state=1)\n",
        "knn.fit(X_train, y_train)\n",
        "y_pred_knn = knn.predict(X_test)\n",
        "\n",
        "# y con el dataset escalado\n",
        "X_virus, y_virus = preparacion_de_datos(df_normalize, \"target\", escalar_valores=True)\n",
        "X_train, X_test, y_train, y_test = train_test_split(X_virus, y_virus,\n",
        "                                                    test_size=0.3, stratify = y_virus, random_state=0)\n",
        "logreg_s = LogisticRegression(max_iter=1000)\n",
        "logreg_s.fit(X_train, y_train)\n",
        "y_pred_lg_s = logreg_s.predict(X_test)\n",
        "\n",
        "bayes_gauss_s = GaussianNB()\n",
        "bayes_gauss_s.fit(X_train, y_train)\n",
        "y_pred_gauss_s = bayes_gauss_s.predict(X_test)\n",
        "\n",
        "knn_s = DecisionTreeClassifier(max_depth=10, random_state=1)\n",
        "knn_s.fit(X_train, y_train)\n",
        "y_pred_knn_s = knn_s.predict(X_test)"
      ]
    },
    {
      "cell_type": "code",
      "execution_count": 25,
      "metadata": {
        "id": "7FG9XWQymM_5"
      },
      "outputs": [],
      "source": [
        "def graficarCurvaRoc( y_pred, model ):\n",
        "  fpr, tpr, _ = metrics.roc_curve(y_test,  y_pred)\n",
        "  auc = metrics.roc_auc_score(y_test, y_pred)\n",
        "  # Graficamos\n",
        "  plt.plot(fpr,tpr,label= model +\" AUC=\"+str(round(auc,4))) #,label= \"AUC=\"+str(auc))\n",
        "  plt.legend(loc=4, fontsize=12)\n",
        "  return auc"
      ]
    },
    {
      "cell_type": "code",
      "execution_count": 26,
      "metadata": {
        "colab": {
          "base_uri": "https://localhost:8080/",
          "height": 607
        },
        "id": "i22ze_cTmeNG",
        "outputId": "dffbee76-f109-4cf0-8bfd-523de1078759"
      },
      "outputs": [
        {
          "data": {
            "image/png": "[encoded data removed]",
            "text/plain": [
              "<Figure size 2000x1000 with 1 Axes>"
            ]
          },
          "metadata": {},
          "output_type": "display_data"
        }
      ],
      "source": [
        "# Inicializamos los labels del gráfico\n",
        "plt.figure(figsize=(20, 10))\n",
        "plt.xlabel('% 1 – Specificity (falsos positivos)', fontsize=14)\n",
        "plt.ylabel('% Sensitivity (positivos)', fontsize=14)\n",
        "\n",
        "# Graficamos la recta del azar\n",
        "it = [i/100 for i in range(100)]\n",
        "plt.plot(it,it,label=\"AZAR AUC=0.5\",color=\"black\")\n",
        "#'bayesMulti':y_pred_nb,\n",
        "modelos = { 'bayesGauss':y_pred_gauss,'arbol':y_pred_tc,\n",
        "           'reglog':y_pred_lg,'knn':y_pred_knn, 'bayesGauss_s':y_pred_gauss_s,\n",
        "           'reglog_s':y_pred_lg_s,'knn_s':y_pred_knn_s,\n",
        "           }\n",
        "areas = []\n",
        "for pred in modelos:\n",
        "    auc = graficarCurvaRoc( modelos[pred] , pred )\n",
        "    areas.append( (pred, auc) )\n",
        "areas = pd.DataFrame(areas, columns=['model','auc'])\n",
        "# Agregamos el titulo y configuro el tamaño de letra\n",
        "plt.title(\"Curva ROC\", fontsize=14)\n",
        "plt.tick_params(labelsize=12);\n",
        "plt.show()"
      ]
    },
    {
      "cell_type": "code",
      "execution_count": 27,
      "metadata": {},
      "outputs": [
        {
          "data": {
            "text/html": [
              "<div>\n",
              "<style scoped>\n",
              "    .dataframe tbody tr th:only-of-type {\n",
              "        vertical-align: middle;\n",
              "    }\n",
              "\n",
              "    .dataframe tbody tr th {\n",
              "        vertical-align: top;\n",
              "    }\n",
              "\n",
              "    .dataframe thead th {\n",
              "        text-align: right;\n",
              "    }\n",
              "</style>\n",
              "<table border=\"1\" class=\"dataframe\">\n",
              "  <thead>\n",
              "    <tr style=\"text-align: right;\">\n",
              "      <th></th>\n",
              "      <th>Edad</th>\n",
              "      <th>Peso</th>\n",
              "      <th>hijos</th>\n",
              "      <th>BLD01</th>\n",
              "      <th>REC1</th>\n",
              "      <th>REC2</th>\n",
              "      <th>REC3</th>\n",
              "      <th>REC4</th>\n",
              "      <th>REC5</th>\n",
              "      <th>BLD02</th>\n",
              "      <th>BLD03</th>\n",
              "      <th>LVL</th>\n",
              "      <th>target</th>\n",
              "      <th>Genero_Norm</th>\n",
              "      <th>Laboral_Norm</th>\n",
              "    </tr>\n",
              "  </thead>\n",
              "  <tbody>\n",
              "    <tr>\n",
              "      <th>1743</th>\n",
              "      <td>77.0</td>\n",
              "      <td>84.074534</td>\n",
              "      <td>3</td>\n",
              "      <td>0.375782</td>\n",
              "      <td>2.961876</td>\n",
              "      <td>64.048710</td>\n",
              "      <td>72.270697</td>\n",
              "      <td>15.043639</td>\n",
              "      <td>90.859844</td>\n",
              "      <td>0.077492</td>\n",
              "      <td>-0.228808</td>\n",
              "      <td>102.661021</td>\n",
              "      <td>0</td>\n",
              "      <td>3.0</td>\n",
              "      <td>1.0</td>\n",
              "    </tr>\n",
              "    <tr>\n",
              "      <th>2196</th>\n",
              "      <td>16.0</td>\n",
              "      <td>55.164510</td>\n",
              "      <td>0</td>\n",
              "      <td>0.619332</td>\n",
              "      <td>4.294339</td>\n",
              "      <td>64.405900</td>\n",
              "      <td>72.526952</td>\n",
              "      <td>15.105464</td>\n",
              "      <td>89.989833</td>\n",
              "      <td>1.499740</td>\n",
              "      <td>1.018183</td>\n",
              "      <td>54.440668</td>\n",
              "      <td>0</td>\n",
              "      <td>3.0</td>\n",
              "      <td>1.0</td>\n",
              "    </tr>\n",
              "    <tr>\n",
              "      <th>1728</th>\n",
              "      <td>33.0</td>\n",
              "      <td>96.989635</td>\n",
              "      <td>3</td>\n",
              "      <td>0.681815</td>\n",
              "      <td>0.205533</td>\n",
              "      <td>63.620074</td>\n",
              "      <td>74.003218</td>\n",
              "      <td>13.556009</td>\n",
              "      <td>90.203537</td>\n",
              "      <td>1.706436</td>\n",
              "      <td>-0.221466</td>\n",
              "      <td>NaN</td>\n",
              "      <td>0</td>\n",
              "      <td>3.0</td>\n",
              "      <td>0.0</td>\n",
              "    </tr>\n",
              "    <tr>\n",
              "      <th>3337</th>\n",
              "      <td>16.0</td>\n",
              "      <td>66.278474</td>\n",
              "      <td>0</td>\n",
              "      <td>1.071266</td>\n",
              "      <td>5.365205</td>\n",
              "      <td>64.249131</td>\n",
              "      <td>70.646960</td>\n",
              "      <td>16.434534</td>\n",
              "      <td>88.942036</td>\n",
              "      <td>2.580401</td>\n",
              "      <td>2.277183</td>\n",
              "      <td>81.210222</td>\n",
              "      <td>1</td>\n",
              "      <td>3.0</td>\n",
              "      <td>1.0</td>\n",
              "    </tr>\n",
              "    <tr>\n",
              "      <th>298</th>\n",
              "      <td>20.0</td>\n",
              "      <td>59.600519</td>\n",
              "      <td>0</td>\n",
              "      <td>0.232450</td>\n",
              "      <td>4.283054</td>\n",
              "      <td>63.888403</td>\n",
              "      <td>72.929113</td>\n",
              "      <td>14.466798</td>\n",
              "      <td>88.326169</td>\n",
              "      <td>1.707526</td>\n",
              "      <td>0.342074</td>\n",
              "      <td>66.397177</td>\n",
              "      <td>0</td>\n",
              "      <td>3.0</td>\n",
              "      <td>1.0</td>\n",
              "    </tr>\n",
              "    <tr>\n",
              "      <th>...</th>\n",
              "      <td>...</td>\n",
              "      <td>...</td>\n",
              "      <td>...</td>\n",
              "      <td>...</td>\n",
              "      <td>...</td>\n",
              "      <td>...</td>\n",
              "      <td>...</td>\n",
              "      <td>...</td>\n",
              "      <td>...</td>\n",
              "      <td>...</td>\n",
              "      <td>...</td>\n",
              "      <td>...</td>\n",
              "      <td>...</td>\n",
              "      <td>...</td>\n",
              "      <td>...</td>\n",
              "    </tr>\n",
              "    <tr>\n",
              "      <th>1992</th>\n",
              "      <td>71.0</td>\n",
              "      <td>86.545914</td>\n",
              "      <td>3</td>\n",
              "      <td>0.665836</td>\n",
              "      <td>7.084822</td>\n",
              "      <td>64.289545</td>\n",
              "      <td>71.209685</td>\n",
              "      <td>17.067810</td>\n",
              "      <td>90.798501</td>\n",
              "      <td>1.942347</td>\n",
              "      <td>-0.180673</td>\n",
              "      <td>129.772580</td>\n",
              "      <td>0</td>\n",
              "      <td>0.0</td>\n",
              "      <td>0.0</td>\n",
              "    </tr>\n",
              "    <tr>\n",
              "      <th>3924</th>\n",
              "      <td>39.0</td>\n",
              "      <td>89.972114</td>\n",
              "      <td>0</td>\n",
              "      <td>1.792074</td>\n",
              "      <td>4.371774</td>\n",
              "      <td>62.569799</td>\n",
              "      <td>75.303991</td>\n",
              "      <td>14.483086</td>\n",
              "      <td>89.743241</td>\n",
              "      <td>0.764243</td>\n",
              "      <td>-0.640510</td>\n",
              "      <td>120.872766</td>\n",
              "      <td>0</td>\n",
              "      <td>3.0</td>\n",
              "      <td>0.0</td>\n",
              "    </tr>\n",
              "    <tr>\n",
              "      <th>1105</th>\n",
              "      <td>37.0</td>\n",
              "      <td>90.573156</td>\n",
              "      <td>2</td>\n",
              "      <td>0.962825</td>\n",
              "      <td>4.727052</td>\n",
              "      <td>62.995944</td>\n",
              "      <td>71.329273</td>\n",
              "      <td>14.940329</td>\n",
              "      <td>90.101096</td>\n",
              "      <td>0.959413</td>\n",
              "      <td>1.234340</td>\n",
              "      <td>1000000.000000</td>\n",
              "      <td>0</td>\n",
              "      <td>3.0</td>\n",
              "      <td>1.0</td>\n",
              "    </tr>\n",
              "    <tr>\n",
              "      <th>1615</th>\n",
              "      <td>9.0</td>\n",
              "      <td>37.043624</td>\n",
              "      <td>0</td>\n",
              "      <td>-0.024500</td>\n",
              "      <td>2.408985</td>\n",
              "      <td>62.673418</td>\n",
              "      <td>70.392780</td>\n",
              "      <td>15.461289</td>\n",
              "      <td>89.427834</td>\n",
              "      <td>1.005513</td>\n",
              "      <td>0.096165</td>\n",
              "      <td>1000000.000000</td>\n",
              "      <td>0</td>\n",
              "      <td>1.0</td>\n",
              "      <td>1.0</td>\n",
              "    </tr>\n",
              "    <tr>\n",
              "      <th>1556</th>\n",
              "      <td>70.0</td>\n",
              "      <td>75.349012</td>\n",
              "      <td>3</td>\n",
              "      <td>0.717138</td>\n",
              "      <td>1.604982</td>\n",
              "      <td>64.711518</td>\n",
              "      <td>72.625727</td>\n",
              "      <td>15.150221</td>\n",
              "      <td>90.862181</td>\n",
              "      <td>1.018478</td>\n",
              "      <td>-0.192953</td>\n",
              "      <td>111.279031</td>\n",
              "      <td>0</td>\n",
              "      <td>0.0</td>\n",
              "      <td>1.0</td>\n",
              "    </tr>\n",
              "  </tbody>\n",
              "</table>\n",
              "<p>1260 rows × 15 columns</p>\n",
              "</div>"
            ],
            "text/plain": [
              "      Edad       Peso  hijos     BLD01      REC1       REC2       REC3  \\\n",
              "1743  77.0  84.074534      3  0.375782  2.961876  64.048710  72.270697   \n",
              "2196  16.0  55.164510      0  0.619332  4.294339  64.405900  72.526952   \n",
              "1728  33.0  96.989635      3  0.681815  0.205533  63.620074  74.003218   \n",
              "3337  16.0  66.278474      0  1.071266  5.365205  64.249131  70.646960   \n",
              "298   20.0  59.600519      0  0.232450  4.283054  63.888403  72.929113   \n",
              "...    ...        ...    ...       ...       ...        ...        ...   \n",
              "1992  71.0  86.545914      3  0.665836  7.084822  64.289545  71.209685   \n",
              "3924  39.0  89.972114      0  1.792074  4.371774  62.569799  75.303991   \n",
              "1105  37.0  90.573156      2  0.962825  4.727052  62.995944  71.329273   \n",
              "1615   9.0  37.043624      0 -0.024500  2.408985  62.673418  70.392780   \n",
              "1556  70.0  75.349012      3  0.717138  1.604982  64.711518  72.625727   \n",
              "\n",
              "           REC4       REC5     BLD02     BLD03             LVL  target  \\\n",
              "1743  15.043639  90.859844  0.077492 -0.228808      102.661021       0   \n",
              "2196  15.105464  89.989833  1.499740  1.018183       54.440668       0   \n",
              "1728  13.556009  90.203537  1.706436 -0.221466             NaN       0   \n",
              "3337  16.434534  88.942036  2.580401  2.277183       81.210222       1   \n",
              "298   14.466798  88.326169  1.707526  0.342074       66.397177       0   \n",
              "...         ...        ...       ...       ...             ...     ...   \n",
              "1992  17.067810  90.798501  1.942347 -0.180673      129.772580       0   \n",
              "3924  14.483086  89.743241  0.764243 -0.640510      120.872766       0   \n",
              "1105  14.940329  90.101096  0.959413  1.234340  1000000.000000       0   \n",
              "1615  15.461289  89.427834  1.005513  0.096165  1000000.000000       0   \n",
              "1556  15.150221  90.862181  1.018478 -0.192953      111.279031       0   \n",
              "\n",
              "      Genero_Norm  Laboral_Norm  \n",
              "1743          3.0           1.0  \n",
              "2196          3.0           1.0  \n",
              "1728          3.0           0.0  \n",
              "3337          3.0           1.0  \n",
              "298           3.0           1.0  \n",
              "...           ...           ...  \n",
              "1992          0.0           0.0  \n",
              "3924          3.0           0.0  \n",
              "1105          3.0           1.0  \n",
              "1615          1.0           1.0  \n",
              "1556          0.0           1.0  \n",
              "\n",
              "[1260 rows x 15 columns]"
            ]
          },
          "execution_count": 27,
          "metadata": {},
          "output_type": "execute_result"
        }
      ],
      "source": [
        "df"
      ]
    },
    {
      "cell_type": "markdown",
      "metadata": {},
      "source": [
        "## Utilidades - Imputacion"
      ]
    },
    {
      "cell_type": "code",
      "execution_count": 2,
      "metadata": {},
      "outputs": [],
      "source": [
        "# Para automatizar la imputacion y hacerlo mas rapido y simple\n",
        "# Nos va a servir para probar rapido distintas strategias de imputacion, encoding, normalizacion\n",
        "# Y ver cual es la mejor.\n",
        "\n",
        "class ColImputer(BaseEstimator, TransformerMixin):\n",
        "    def __init__(self, imputer=SimpleImputer(), columns=[]):\n",
        "        super().__init__()\n",
        "        self.imputer = imputer\n",
        "        self.columns = columns\n",
        "\n",
        "    def fit(self, X, y=None):\n",
        "        self.imputer.fit(X[self.columns])\n",
        "        return self\n",
        "\n",
        "    def get_feature_names_out(self):\n",
        "        return self.imputer.get_feature_names_out()\n",
        "\n",
        "    def  transform(self, X):\n",
        "        Xc = X.copy()\n",
        "        Xc.loc[:, self.columns] = self.imputer.transform(Xc[self.columns])\n",
        "        return Xc\n",
        "\n",
        "class ColEncoder(BaseEstimator, TransformerMixin):\n",
        "    def __init__(self, encoder=None, columns=[]):\n",
        "        super().__init__()\n",
        "        self.encoder = encoder\n",
        "        self.columns = columns\n",
        "\n",
        "    def fit(self, X, y=None):\n",
        "        self.encoder.fit(X[self.columns])\n",
        "        return self\n",
        "\n",
        "    def get_feature_names_out(self):\n",
        "        return self.get_feature_names_out()\n",
        "\n",
        "    def  transform(self, X):\n",
        "        Xc = X.copy()\n",
        "        Xc.loc[:, self.columns] = self.encoder.transform(Xc[self.columns])\n",
        "        return Xc\n",
        "\n",
        "class ColScaler(BaseEstimator, TransformerMixin):\n",
        "    def __init__(self, scaler=StandardScaler(), columns=[]):\n",
        "        super().__init__()\n",
        "        self.scaler = scaler\n",
        "        self.columns = columns\n",
        "\n",
        "    def fit(self, X, y=None):\n",
        "        self.scaler.fit(X[self.columns])\n",
        "        return self\n",
        "\n",
        "    def get_feature_names_out(self):\n",
        "        return self.scaler.get_feature_names_out()\n",
        "\n",
        "    def  transform(self, X):\n",
        "        Xc = X.copy()\n",
        "        Xc.loc[:, self.columns] = self.scaler.transform(Xc[self.columns])\n",
        "        return Xc"
      ]
    },
    {
      "cell_type": "code",
      "execution_count": 29,
      "metadata": {},
      "outputs": [
        {
          "data": {
            "text/html": [
              "<div>\n",
              "<style scoped>\n",
              "    .dataframe tbody tr th:only-of-type {\n",
              "        vertical-align: middle;\n",
              "    }\n",
              "\n",
              "    .dataframe tbody tr th {\n",
              "        vertical-align: top;\n",
              "    }\n",
              "\n",
              "    .dataframe thead th {\n",
              "        text-align: right;\n",
              "    }\n",
              "</style>\n",
              "<table border=\"1\" class=\"dataframe\">\n",
              "  <thead>\n",
              "    <tr style=\"text-align: right;\">\n",
              "      <th></th>\n",
              "      <th>Edad</th>\n",
              "      <th>Peso</th>\n",
              "      <th>hijos</th>\n",
              "      <th>BLD01</th>\n",
              "      <th>REC1</th>\n",
              "      <th>REC2</th>\n",
              "      <th>REC3</th>\n",
              "      <th>REC4</th>\n",
              "      <th>REC5</th>\n",
              "      <th>BLD02</th>\n",
              "      <th>BLD03</th>\n",
              "      <th>LVL</th>\n",
              "      <th>Genero_Norm</th>\n",
              "      <th>Laboral_Norm</th>\n",
              "    </tr>\n",
              "  </thead>\n",
              "  <tbody>\n",
              "    <tr>\n",
              "      <th>2649</th>\n",
              "      <td>70.0</td>\n",
              "      <td>100.113305</td>\n",
              "      <td>3</td>\n",
              "      <td>1.594139</td>\n",
              "      <td>4.005800</td>\n",
              "      <td>63.286256</td>\n",
              "      <td>73.815465</td>\n",
              "      <td>15.843920</td>\n",
              "      <td>90.246989</td>\n",
              "      <td>1.737081</td>\n",
              "      <td>0.106763</td>\n",
              "      <td>110.258620</td>\n",
              "      <td>3.0</td>\n",
              "      <td>0.0</td>\n",
              "    </tr>\n",
              "    <tr>\n",
              "      <th>1672</th>\n",
              "      <td>49.0</td>\n",
              "      <td>98.167132</td>\n",
              "      <td>0</td>\n",
              "      <td>1.870424</td>\n",
              "      <td>4.609778</td>\n",
              "      <td>65.485787</td>\n",
              "      <td>73.666859</td>\n",
              "      <td>17.288459</td>\n",
              "      <td>90.380256</td>\n",
              "      <td>-0.211108</td>\n",
              "      <td>-0.584382</td>\n",
              "      <td>1000000.000000</td>\n",
              "      <td>0.0</td>\n",
              "      <td>0.0</td>\n",
              "    </tr>\n",
              "    <tr>\n",
              "      <th>3855</th>\n",
              "      <td>79.0</td>\n",
              "      <td>73.694441</td>\n",
              "      <td>3</td>\n",
              "      <td>2.275857</td>\n",
              "      <td>3.354480</td>\n",
              "      <td>63.869302</td>\n",
              "      <td>71.495185</td>\n",
              "      <td>15.507259</td>\n",
              "      <td>91.183884</td>\n",
              "      <td>2.533497</td>\n",
              "      <td>1.069934</td>\n",
              "      <td>70.205143</td>\n",
              "      <td>3.0</td>\n",
              "      <td>1.0</td>\n",
              "    </tr>\n",
              "    <tr>\n",
              "      <th>1200</th>\n",
              "      <td>59.0</td>\n",
              "      <td>93.283448</td>\n",
              "      <td>4</td>\n",
              "      <td>4.817192</td>\n",
              "      <td>4.261762</td>\n",
              "      <td>62.904916</td>\n",
              "      <td>71.926554</td>\n",
              "      <td>14.190772</td>\n",
              "      <td>90.793540</td>\n",
              "      <td>2.521404</td>\n",
              "      <td>2.172101</td>\n",
              "      <td>1000000.000000</td>\n",
              "      <td>0.0</td>\n",
              "      <td>0.0</td>\n",
              "    </tr>\n",
              "    <tr>\n",
              "      <th>1510</th>\n",
              "      <td>38.0</td>\n",
              "      <td>94.198117</td>\n",
              "      <td>3</td>\n",
              "      <td>1.538096</td>\n",
              "      <td>3.967896</td>\n",
              "      <td>63.649131</td>\n",
              "      <td>73.769676</td>\n",
              "      <td>15.033912</td>\n",
              "      <td>91.794558</td>\n",
              "      <td>1.948536</td>\n",
              "      <td>2.129873</td>\n",
              "      <td>227107.669935</td>\n",
              "      <td>0.0</td>\n",
              "      <td>0.0</td>\n",
              "    </tr>\n",
              "    <tr>\n",
              "      <th>...</th>\n",
              "      <td>...</td>\n",
              "      <td>...</td>\n",
              "      <td>...</td>\n",
              "      <td>...</td>\n",
              "      <td>...</td>\n",
              "      <td>...</td>\n",
              "      <td>...</td>\n",
              "      <td>...</td>\n",
              "      <td>...</td>\n",
              "      <td>...</td>\n",
              "      <td>...</td>\n",
              "      <td>...</td>\n",
              "      <td>...</td>\n",
              "      <td>...</td>\n",
              "    </tr>\n",
              "    <tr>\n",
              "      <th>3765</th>\n",
              "      <td>46.0</td>\n",
              "      <td>105.281521</td>\n",
              "      <td>3</td>\n",
              "      <td>0.335191</td>\n",
              "      <td>5.210476</td>\n",
              "      <td>63.661080</td>\n",
              "      <td>72.433392</td>\n",
              "      <td>15.405991</td>\n",
              "      <td>89.037825</td>\n",
              "      <td>-0.425938</td>\n",
              "      <td>-1.554644</td>\n",
              "      <td>117.351743</td>\n",
              "      <td>0.0</td>\n",
              "      <td>1.0</td>\n",
              "    </tr>\n",
              "    <tr>\n",
              "      <th>1157</th>\n",
              "      <td>14.0</td>\n",
              "      <td>48.893931</td>\n",
              "      <td>0</td>\n",
              "      <td>1.229367</td>\n",
              "      <td>3.193249</td>\n",
              "      <td>63.865443</td>\n",
              "      <td>74.632829</td>\n",
              "      <td>14.536387</td>\n",
              "      <td>89.258331</td>\n",
              "      <td>1.025578</td>\n",
              "      <td>0.504963</td>\n",
              "      <td>91.452040</td>\n",
              "      <td>3.0</td>\n",
              "      <td>1.0</td>\n",
              "    </tr>\n",
              "    <tr>\n",
              "      <th>3288</th>\n",
              "      <td>9.0</td>\n",
              "      <td>39.026619</td>\n",
              "      <td>0</td>\n",
              "      <td>1.911461</td>\n",
              "      <td>2.339784</td>\n",
              "      <td>65.035115</td>\n",
              "      <td>71.862261</td>\n",
              "      <td>16.908421</td>\n",
              "      <td>90.076732</td>\n",
              "      <td>1.509995</td>\n",
              "      <td>2.055101</td>\n",
              "      <td>56.321347</td>\n",
              "      <td>0.0</td>\n",
              "      <td>1.0</td>\n",
              "    </tr>\n",
              "    <tr>\n",
              "      <th>1765</th>\n",
              "      <td>20.0</td>\n",
              "      <td>68.056306</td>\n",
              "      <td>1</td>\n",
              "      <td>1.558683</td>\n",
              "      <td>5.540403</td>\n",
              "      <td>64.126036</td>\n",
              "      <td>73.854682</td>\n",
              "      <td>15.715247</td>\n",
              "      <td>92.411745</td>\n",
              "      <td>1.921821</td>\n",
              "      <td>-0.294301</td>\n",
              "      <td>1000000.000000</td>\n",
              "      <td>0.0</td>\n",
              "      <td>2.0</td>\n",
              "    </tr>\n",
              "    <tr>\n",
              "      <th>680</th>\n",
              "      <td>35.0</td>\n",
              "      <td>90.233380</td>\n",
              "      <td>1</td>\n",
              "      <td>2.781733</td>\n",
              "      <td>2.982522</td>\n",
              "      <td>64.351268</td>\n",
              "      <td>73.811044</td>\n",
              "      <td>14.849962</td>\n",
              "      <td>90.877764</td>\n",
              "      <td>-1.836594</td>\n",
              "      <td>-0.035557</td>\n",
              "      <td>119.888439</td>\n",
              "      <td>0.0</td>\n",
              "      <td>0.0</td>\n",
              "    </tr>\n",
              "  </tbody>\n",
              "</table>\n",
              "<p>378 rows × 14 columns</p>\n",
              "</div>"
            ],
            "text/plain": [
              "      Edad        Peso  hijos     BLD01      REC1       REC2       REC3  \\\n",
              "2649  70.0  100.113305      3  1.594139  4.005800  63.286256  73.815465   \n",
              "1672  49.0   98.167132      0  1.870424  4.609778  65.485787  73.666859   \n",
              "3855  79.0   73.694441      3  2.275857  3.354480  63.869302  71.495185   \n",
              "1200  59.0   93.283448      4  4.817192  4.261762  62.904916  71.926554   \n",
              "1510  38.0   94.198117      3  1.538096  3.967896  63.649131  73.769676   \n",
              "...    ...         ...    ...       ...       ...        ...        ...   \n",
              "3765  46.0  105.281521      3  0.335191  5.210476  63.661080  72.433392   \n",
              "1157  14.0   48.893931      0  1.229367  3.193249  63.865443  74.632829   \n",
              "3288   9.0   39.026619      0  1.911461  2.339784  65.035115  71.862261   \n",
              "1765  20.0   68.056306      1  1.558683  5.540403  64.126036  73.854682   \n",
              "680   35.0   90.233380      1  2.781733  2.982522  64.351268  73.811044   \n",
              "\n",
              "           REC4       REC5     BLD02     BLD03             LVL  Genero_Norm  \\\n",
              "2649  15.843920  90.246989  1.737081  0.106763      110.258620          3.0   \n",
              "1672  17.288459  90.380256 -0.211108 -0.584382  1000000.000000          0.0   \n",
              "3855  15.507259  91.183884  2.533497  1.069934       70.205143          3.0   \n",
              "1200  14.190772  90.793540  2.521404  2.172101  1000000.000000          0.0   \n",
              "1510  15.033912  91.794558  1.948536  2.129873   227107.669935          0.0   \n",
              "...         ...        ...       ...       ...             ...          ...   \n",
              "3765  15.405991  89.037825 -0.425938 -1.554644      117.351743          0.0   \n",
              "1157  14.536387  89.258331  1.025578  0.504963       91.452040          3.0   \n",
              "3288  16.908421  90.076732  1.509995  2.055101       56.321347          0.0   \n",
              "1765  15.715247  92.411745  1.921821 -0.294301  1000000.000000          0.0   \n",
              "680   14.849962  90.877764 -1.836594 -0.035557      119.888439          0.0   \n",
              "\n",
              "      Laboral_Norm  \n",
              "2649           0.0  \n",
              "1672           0.0  \n",
              "3855           1.0  \n",
              "1200           0.0  \n",
              "1510           0.0  \n",
              "...            ...  \n",
              "3765           1.0  \n",
              "1157           1.0  \n",
              "3288           1.0  \n",
              "1765           2.0  \n",
              "680            0.0  \n",
              "\n",
              "[378 rows x 14 columns]"
            ]
          },
          "execution_count": 29,
          "metadata": {},
          "output_type": "execute_result"
        }
      ],
      "source": [
        "# Ejemplo de como llamar los custom imputer solo\n",
        "\n",
        "X = df.drop(\"target\", axis=1)\n",
        "y = df[\"target\"]\n",
        "X_train, X_test, y_train, y_test = train_test_split(X, y, random_state=3, test_size=0.3)\n",
        "\n",
        "ci = ColImputer(imputer=SimpleImputer(strategy='mean'), columns=[\"LVL\"])\n",
        "ci.fit(X_train)\n",
        "X_train = ci.transform(X_train)\n",
        "X_test = ci.transform(X_test)\n",
        "\n",
        "X_test"
      ]
    },
    {
      "cell_type": "code",
      "execution_count": 36,
      "metadata": {},
      "outputs": [
        {
          "data": {
            "text/html": [
              "<div>\n",
              "<style scoped>\n",
              "    .dataframe tbody tr th:only-of-type {\n",
              "        vertical-align: middle;\n",
              "    }\n",
              "\n",
              "    .dataframe tbody tr th {\n",
              "        vertical-align: top;\n",
              "    }\n",
              "\n",
              "    .dataframe thead th {\n",
              "        text-align: right;\n",
              "    }\n",
              "</style>\n",
              "<table border=\"1\" class=\"dataframe\">\n",
              "  <thead>\n",
              "    <tr style=\"text-align: right;\">\n",
              "      <th></th>\n",
              "      <th>Edad</th>\n",
              "      <th>Genero</th>\n",
              "      <th>Peso</th>\n",
              "      <th>Laboral</th>\n",
              "      <th>hijos</th>\n",
              "      <th>BLD01</th>\n",
              "      <th>REC1</th>\n",
              "      <th>REC2</th>\n",
              "      <th>REC3</th>\n",
              "      <th>REC4</th>\n",
              "      <th>REC5</th>\n",
              "      <th>BLD02</th>\n",
              "      <th>BLD03</th>\n",
              "      <th>LVL</th>\n",
              "    </tr>\n",
              "  </thead>\n",
              "  <tbody>\n",
              "    <tr>\n",
              "      <th>108</th>\n",
              "      <td>63.0</td>\n",
              "      <td>Masculino</td>\n",
              "      <td>97.534354</td>\n",
              "      <td>Inactivo</td>\n",
              "      <td>3</td>\n",
              "      <td>0.616438</td>\n",
              "      <td>4.688561</td>\n",
              "      <td>63.322016</td>\n",
              "      <td>72.877981</td>\n",
              "      <td>14.343278</td>\n",
              "      <td>87.141509</td>\n",
              "      <td>-0.676277</td>\n",
              "      <td>1.285584</td>\n",
              "      <td>74.149496</td>\n",
              "    </tr>\n",
              "    <tr>\n",
              "      <th>330</th>\n",
              "      <td>NaN</td>\n",
              "      <td>NaN</td>\n",
              "      <td>89.997816</td>\n",
              "      <td>No_declara</td>\n",
              "      <td>3</td>\n",
              "      <td>3.113178</td>\n",
              "      <td>3.742961</td>\n",
              "      <td>63.568930</td>\n",
              "      <td>71.321941</td>\n",
              "      <td>13.349052</td>\n",
              "      <td>91.243761</td>\n",
              "      <td>0.053347</td>\n",
              "      <td>0.430131</td>\n",
              "      <td>140.975157</td>\n",
              "    </tr>\n",
              "    <tr>\n",
              "      <th>2493</th>\n",
              "      <td>11.0</td>\n",
              "      <td>Masculino</td>\n",
              "      <td>41.257101</td>\n",
              "      <td>Inactivo</td>\n",
              "      <td>0</td>\n",
              "      <td>-0.465923</td>\n",
              "      <td>3.068936</td>\n",
              "      <td>63.738817</td>\n",
              "      <td>73.868117</td>\n",
              "      <td>16.282799</td>\n",
              "      <td>90.785331</td>\n",
              "      <td>0.901846</td>\n",
              "      <td>0.443439</td>\n",
              "      <td>77.377397</td>\n",
              "    </tr>\n",
              "    <tr>\n",
              "      <th>3431</th>\n",
              "      <td>20.0</td>\n",
              "      <td>NaN</td>\n",
              "      <td>59.876767</td>\n",
              "      <td>Activo</td>\n",
              "      <td>0</td>\n",
              "      <td>0.880728</td>\n",
              "      <td>3.962700</td>\n",
              "      <td>64.468353</td>\n",
              "      <td>74.044615</td>\n",
              "      <td>13.448205</td>\n",
              "      <td>90.733600</td>\n",
              "      <td>0.152341</td>\n",
              "      <td>2.303025</td>\n",
              "      <td>63.242609</td>\n",
              "    </tr>\n",
              "    <tr>\n",
              "      <th>1626</th>\n",
              "      <td>15.0</td>\n",
              "      <td>NaN</td>\n",
              "      <td>54.663807</td>\n",
              "      <td>Inactivo</td>\n",
              "      <td>0</td>\n",
              "      <td>1.802612</td>\n",
              "      <td>4.695404</td>\n",
              "      <td>64.459696</td>\n",
              "      <td>72.674963</td>\n",
              "      <td>15.412262</td>\n",
              "      <td>91.128078</td>\n",
              "      <td>-1.213498</td>\n",
              "      <td>0.292452</td>\n",
              "      <td>1000000.000000</td>\n",
              "    </tr>\n",
              "    <tr>\n",
              "      <th>...</th>\n",
              "      <td>...</td>\n",
              "      <td>...</td>\n",
              "      <td>...</td>\n",
              "      <td>...</td>\n",
              "      <td>...</td>\n",
              "      <td>...</td>\n",
              "      <td>...</td>\n",
              "      <td>...</td>\n",
              "      <td>...</td>\n",
              "      <td>...</td>\n",
              "      <td>...</td>\n",
              "      <td>...</td>\n",
              "      <td>...</td>\n",
              "      <td>...</td>\n",
              "    </tr>\n",
              "    <tr>\n",
              "      <th>88</th>\n",
              "      <td>4.0</td>\n",
              "      <td>Otro</td>\n",
              "      <td>24.823460</td>\n",
              "      <td>Inactivo</td>\n",
              "      <td>0</td>\n",
              "      <td>1.781126</td>\n",
              "      <td>2.730862</td>\n",
              "      <td>65.718625</td>\n",
              "      <td>71.648695</td>\n",
              "      <td>15.069206</td>\n",
              "      <td>88.789895</td>\n",
              "      <td>0.858152</td>\n",
              "      <td>0.434527</td>\n",
              "      <td>NaN</td>\n",
              "    </tr>\n",
              "    <tr>\n",
              "      <th>3638</th>\n",
              "      <td>42.0</td>\n",
              "      <td>Masculino</td>\n",
              "      <td>97.486033</td>\n",
              "      <td>Inactivo</td>\n",
              "      <td>0</td>\n",
              "      <td>3.937679</td>\n",
              "      <td>4.647337</td>\n",
              "      <td>65.078247</td>\n",
              "      <td>73.220129</td>\n",
              "      <td>15.378073</td>\n",
              "      <td>87.794379</td>\n",
              "      <td>1.149157</td>\n",
              "      <td>0.770894</td>\n",
              "      <td>141.356513</td>\n",
              "    </tr>\n",
              "    <tr>\n",
              "      <th>3697</th>\n",
              "      <td>10.0</td>\n",
              "      <td>Masculino</td>\n",
              "      <td>39.430976</td>\n",
              "      <td>Inactivo</td>\n",
              "      <td>0</td>\n",
              "      <td>2.907264</td>\n",
              "      <td>5.141683</td>\n",
              "      <td>63.378024</td>\n",
              "      <td>72.630120</td>\n",
              "      <td>16.851681</td>\n",
              "      <td>89.788027</td>\n",
              "      <td>-0.186904</td>\n",
              "      <td>-0.414278</td>\n",
              "      <td>49.515520</td>\n",
              "    </tr>\n",
              "    <tr>\n",
              "      <th>479</th>\n",
              "      <td>35.0</td>\n",
              "      <td>NaN</td>\n",
              "      <td>86.288479</td>\n",
              "      <td>Activo</td>\n",
              "      <td>1</td>\n",
              "      <td>1.605188</td>\n",
              "      <td>4.545570</td>\n",
              "      <td>65.351484</td>\n",
              "      <td>73.217532</td>\n",
              "      <td>14.422099</td>\n",
              "      <td>91.903482</td>\n",
              "      <td>-1.155672</td>\n",
              "      <td>-0.971458</td>\n",
              "      <td>78.921497</td>\n",
              "    </tr>\n",
              "    <tr>\n",
              "      <th>1022</th>\n",
              "      <td>NaN</td>\n",
              "      <td>Masculino</td>\n",
              "      <td>87.053701</td>\n",
              "      <td>Activo</td>\n",
              "      <td>1</td>\n",
              "      <td>1.334984</td>\n",
              "      <td>3.598511</td>\n",
              "      <td>63.618985</td>\n",
              "      <td>75.783045</td>\n",
              "      <td>13.810182</td>\n",
              "      <td>89.603415</td>\n",
              "      <td>0.722623</td>\n",
              "      <td>-0.123250</td>\n",
              "      <td>117.712861</td>\n",
              "    </tr>\n",
              "  </tbody>\n",
              "</table>\n",
              "<p>882 rows × 14 columns</p>\n",
              "</div>"
            ],
            "text/plain": [
              "      Edad     Genero       Peso     Laboral  hijos     BLD01      REC1  \\\n",
              "108   63.0  Masculino  97.534354    Inactivo      3  0.616438  4.688561   \n",
              "330    NaN        NaN  89.997816  No_declara      3  3.113178  3.742961   \n",
              "2493  11.0  Masculino  41.257101    Inactivo      0 -0.465923  3.068936   \n",
              "3431  20.0        NaN  59.876767      Activo      0  0.880728  3.962700   \n",
              "1626  15.0        NaN  54.663807    Inactivo      0  1.802612  4.695404   \n",
              "...    ...        ...        ...         ...    ...       ...       ...   \n",
              "88     4.0       Otro  24.823460    Inactivo      0  1.781126  2.730862   \n",
              "3638  42.0  Masculino  97.486033    Inactivo      0  3.937679  4.647337   \n",
              "3697  10.0  Masculino  39.430976    Inactivo      0  2.907264  5.141683   \n",
              "479   35.0        NaN  86.288479      Activo      1  1.605188  4.545570   \n",
              "1022   NaN  Masculino  87.053701      Activo      1  1.334984  3.598511   \n",
              "\n",
              "           REC2       REC3       REC4       REC5     BLD02     BLD03  \\\n",
              "108   63.322016  72.877981  14.343278  87.141509 -0.676277  1.285584   \n",
              "330   63.568930  71.321941  13.349052  91.243761  0.053347  0.430131   \n",
              "2493  63.738817  73.868117  16.282799  90.785331  0.901846  0.443439   \n",
              "3431  64.468353  74.044615  13.448205  90.733600  0.152341  2.303025   \n",
              "1626  64.459696  72.674963  15.412262  91.128078 -1.213498  0.292452   \n",
              "...         ...        ...        ...        ...       ...       ...   \n",
              "88    65.718625  71.648695  15.069206  88.789895  0.858152  0.434527   \n",
              "3638  65.078247  73.220129  15.378073  87.794379  1.149157  0.770894   \n",
              "3697  63.378024  72.630120  16.851681  89.788027 -0.186904 -0.414278   \n",
              "479   65.351484  73.217532  14.422099  91.903482 -1.155672 -0.971458   \n",
              "1022  63.618985  75.783045  13.810182  89.603415  0.722623 -0.123250   \n",
              "\n",
              "                 LVL  \n",
              "108        74.149496  \n",
              "330       140.975157  \n",
              "2493       77.377397  \n",
              "3431       63.242609  \n",
              "1626  1000000.000000  \n",
              "...              ...  \n",
              "88               NaN  \n",
              "3638      141.356513  \n",
              "3697       49.515520  \n",
              "479        78.921497  \n",
              "1022      117.712861  \n",
              "\n",
              "[882 rows x 14 columns]"
            ]
          },
          "execution_count": 36,
          "metadata": {},
          "output_type": "execute_result"
        }
      ],
      "source": [
        "# Ejemplo como llamar varios imputers/scalers en un Pipeline\n",
        "X = df.drop(\"target\", axis=1)\n",
        "y = df[\"target\"]\n",
        "X_train, X_test, y_train, y_test = train_test_split(X, y, random_state=3, test_size=0.3)\n",
        "X_train"
      ]
    },
    {
      "cell_type": "code",
      "execution_count": 20,
      "metadata": {},
      "outputs": [
        {
          "ename": "NameError",
          "evalue": "name 'OrdinalEncoder' is not defined",
          "output_type": "error",
          "traceback": [
            "\u001b[1;31m---------------------------------------------------------------------------\u001b[0m",
            "\u001b[1;31mNameError\u001b[0m                                 Traceback (most recent call last)",
            "Cell \u001b[1;32mIn[20], line 9\u001b[0m\n\u001b[0;32m      3\u001b[0m y \u001b[38;5;241m=\u001b[39m df[\u001b[38;5;124m\"\u001b[39m\u001b[38;5;124mtarget\u001b[39m\u001b[38;5;124m\"\u001b[39m]\n\u001b[0;32m      4\u001b[0m X_train, X_test, y_train, y_test \u001b[38;5;241m=\u001b[39m train_test_split(X, y, random_state\u001b[38;5;241m=\u001b[39m\u001b[38;5;241m3\u001b[39m, test_size\u001b[38;5;241m=\u001b[39m\u001b[38;5;241m0.3\u001b[39m)\n\u001b[0;32m      7\u001b[0m pl \u001b[38;5;241m=\u001b[39m Pipeline(steps\u001b[38;5;241m=\u001b[39m[\n\u001b[0;32m      8\u001b[0m     (\u001b[38;5;124m\"\u001b[39m\u001b[38;5;124mImpCol1Col2\u001b[39m\u001b[38;5;124m\"\u001b[39m, ColImputer(imputer\u001b[38;5;241m=\u001b[39mSimpleImputer(strategy\u001b[38;5;241m=\u001b[39m\u001b[38;5;124m'\u001b[39m\u001b[38;5;124mmean\u001b[39m\u001b[38;5;124m'\u001b[39m), columns\u001b[38;5;241m=\u001b[39m[\u001b[38;5;124m\"\u001b[39m\u001b[38;5;124mLVL\u001b[39m\u001b[38;5;124m\"\u001b[39m])),\n\u001b[1;32m----> 9\u001b[0m     (\u001b[38;5;124m\"\u001b[39m\u001b[38;5;124mOrdinalEncoder\u001b[39m\u001b[38;5;124m\"\u001b[39m, ColEncoder(encoder\u001b[38;5;241m=\u001b[39m\u001b[43mOrdinalEncoder\u001b[49m(categories\u001b[38;5;241m=\u001b[39m[[\u001b[38;5;124m\"\u001b[39m\u001b[38;5;124mActivo\u001b[39m\u001b[38;5;124m\"\u001b[39m, \u001b[38;5;124m\"\u001b[39m\u001b[38;5;124mInactivo\u001b[39m\u001b[38;5;124m\"\u001b[39m,\u001b[38;5;124m\"\u001b[39m\u001b[38;5;124mNo_declara\u001b[39m\u001b[38;5;124m\"\u001b[39m]]), columns\u001b[38;5;241m=\u001b[39m[\u001b[38;5;124m\"\u001b[39m\u001b[38;5;124mLaboral\u001b[39m\u001b[38;5;124m\"\u001b[39m])),\n\u001b[0;32m     10\u001b[0m     (\u001b[38;5;124m\"\u001b[39m\u001b[38;5;124mscaler\u001b[39m\u001b[38;5;124m\"\u001b[39m, ColScaler(scaler\u001b[38;5;241m=\u001b[39mMinMaxScaler(), columns\u001b[38;5;241m=\u001b[39m[\u001b[38;5;124m\"\u001b[39m\u001b[38;5;124mBLD03\u001b[39m\u001b[38;5;124m\"\u001b[39m])),\n\u001b[0;32m     11\u001b[0m ])    \n\u001b[0;32m     13\u001b[0m pl\u001b[38;5;241m.\u001b[39mfit(X_train, y_train)\n\u001b[0;32m     14\u001b[0m X_train_nuevo \u001b[38;5;241m=\u001b[39m pl\u001b[38;5;241m.\u001b[39mtransform(X_train)\n",
            "\u001b[1;31mNameError\u001b[0m: name 'OrdinalEncoder' is not defined"
          ]
        }
      ],
      "source": [
        "# Ejemplo como llamar varios imputers/scalers en un Pipeline\n",
        "X = df.drop(\"target\", axis=1)\n",
        "y = df[\"target\"]\n",
        "X_train, X_test, y_train, y_test = train_test_split(X, y, random_state=3, test_size=0.3)\n",
        "\n",
        "\n",
        "pl = Pipeline(steps=[\n",
        "    (\"ImpCol1Col2\", ColImputer(imputer=SimpleImputer(strategy='mean'), columns=[\"LVL\"])),\n",
        "    (\"OrdinalEncoder\", ColEncoder(encoder=OrdinalEncoder(categories=[[\"Activo\", \"Inactivo\",\"No_declara\"]]), columns=[\"Laboral\"])),\n",
        "    (\"scaler\", ColScaler(scaler=MinMaxScaler(), columns=[\"BLD03\"])),\n",
        "])    \n",
        "\n",
        "pl.fit(X_train, y_train)\n",
        "X_train_nuevo = pl.transform(X_train)\n",
        "X_test_nuevo = pl.transform(X_test)\n"
      ]
    },
    {
      "cell_type": "code",
      "execution_count": 8,
      "metadata": {},
      "outputs": [
        {
          "ename": "ValueError",
          "evalue": "Names provided are not unique: ['ImpCol1Col2', 'LR', 'LR']",
          "output_type": "error",
          "traceback": [
            "\u001b[1;31m---------------------------------------------------------------------------\u001b[0m",
            "\u001b[1;31mValueError\u001b[0m                                Traceback (most recent call last)",
            "Cell \u001b[1;32mIn[8], line 4\u001b[0m\n\u001b[0;32m      2\u001b[0m \u001b[38;5;28;01mfrom\u001b[39;00m \u001b[38;5;21;01msklearn\u001b[39;00m\u001b[38;5;21;01m.\u001b[39;00m\u001b[38;5;21;01mlinear_model\u001b[39;00m \u001b[38;5;28;01mimport\u001b[39;00m LogisticRegression\n\u001b[0;32m      3\u001b[0m pl\u001b[38;5;241m.\u001b[39msteps\u001b[38;5;241m.\u001b[39mappend((\u001b[38;5;124m\"\u001b[39m\u001b[38;5;124mLR\u001b[39m\u001b[38;5;124m\"\u001b[39m, LogisticRegression( max_iter\u001b[38;5;241m=\u001b[39m\u001b[38;5;241m3000\u001b[39m )))\n\u001b[1;32m----> 4\u001b[0m \u001b[43mpl\u001b[49m\u001b[38;5;241;43m.\u001b[39;49m\u001b[43mfit\u001b[49m\u001b[43m(\u001b[49m\u001b[43mX_train_nuevo\u001b[49m\u001b[43m,\u001b[49m\u001b[43m \u001b[49m\u001b[43my_train\u001b[49m\u001b[43m)\u001b[49m\n\u001b[0;32m      5\u001b[0m y_pred \u001b[38;5;241m=\u001b[39m pl\u001b[38;5;241m.\u001b[39mpredict(X_test_nuevo)\n\u001b[0;32m      6\u001b[0m \u001b[38;5;28mprint\u001b[39m(classification_report(y_test, y_pred))\n",
            "File \u001b[1;32m~\\AppData\\Local\\Packages\\PythonSoftwareFoundation.Python.3.12_qbz5n2kfra8p0\\LocalCache\\local-packages\\Python312\\site-packages\\sklearn\\base.py:1473\u001b[0m, in \u001b[0;36m_fit_context.<locals>.decorator.<locals>.wrapper\u001b[1;34m(estimator, *args, **kwargs)\u001b[0m\n\u001b[0;32m   1466\u001b[0m     estimator\u001b[38;5;241m.\u001b[39m_validate_params()\n\u001b[0;32m   1468\u001b[0m \u001b[38;5;28;01mwith\u001b[39;00m config_context(\n\u001b[0;32m   1469\u001b[0m     skip_parameter_validation\u001b[38;5;241m=\u001b[39m(\n\u001b[0;32m   1470\u001b[0m         prefer_skip_nested_validation \u001b[38;5;129;01mor\u001b[39;00m global_skip_validation\n\u001b[0;32m   1471\u001b[0m     )\n\u001b[0;32m   1472\u001b[0m ):\n\u001b[1;32m-> 1473\u001b[0m     \u001b[38;5;28;01mreturn\u001b[39;00m \u001b[43mfit_method\u001b[49m\u001b[43m(\u001b[49m\u001b[43mestimator\u001b[49m\u001b[43m,\u001b[49m\u001b[43m \u001b[49m\u001b[38;5;241;43m*\u001b[39;49m\u001b[43margs\u001b[49m\u001b[43m,\u001b[49m\u001b[43m \u001b[49m\u001b[38;5;241;43m*\u001b[39;49m\u001b[38;5;241;43m*\u001b[39;49m\u001b[43mkwargs\u001b[49m\u001b[43m)\u001b[49m\n",
            "File \u001b[1;32m~\\AppData\\Local\\Packages\\PythonSoftwareFoundation.Python.3.12_qbz5n2kfra8p0\\LocalCache\\local-packages\\Python312\\site-packages\\sklearn\\pipeline.py:472\u001b[0m, in \u001b[0;36mPipeline.fit\u001b[1;34m(self, X, y, **params)\u001b[0m\n\u001b[0;32m    429\u001b[0m \u001b[38;5;250m\u001b[39m\u001b[38;5;124;03m\"\"\"Fit the model.\u001b[39;00m\n\u001b[0;32m    430\u001b[0m \n\u001b[0;32m    431\u001b[0m \u001b[38;5;124;03mFit all the transformers one after the other and sequentially transform the\u001b[39;00m\n\u001b[1;32m   (...)\u001b[0m\n\u001b[0;32m    469\u001b[0m \u001b[38;5;124;03m    Pipeline with fitted steps.\u001b[39;00m\n\u001b[0;32m    470\u001b[0m \u001b[38;5;124;03m\"\"\"\u001b[39;00m\n\u001b[0;32m    471\u001b[0m routed_params \u001b[38;5;241m=\u001b[39m \u001b[38;5;28mself\u001b[39m\u001b[38;5;241m.\u001b[39m_check_method_params(method\u001b[38;5;241m=\u001b[39m\u001b[38;5;124m\"\u001b[39m\u001b[38;5;124mfit\u001b[39m\u001b[38;5;124m\"\u001b[39m, props\u001b[38;5;241m=\u001b[39mparams)\n\u001b[1;32m--> 472\u001b[0m Xt \u001b[38;5;241m=\u001b[39m \u001b[38;5;28;43mself\u001b[39;49m\u001b[38;5;241;43m.\u001b[39;49m\u001b[43m_fit\u001b[49m\u001b[43m(\u001b[49m\u001b[43mX\u001b[49m\u001b[43m,\u001b[49m\u001b[43m \u001b[49m\u001b[43my\u001b[49m\u001b[43m,\u001b[49m\u001b[43m \u001b[49m\u001b[43mrouted_params\u001b[49m\u001b[43m)\u001b[49m\n\u001b[0;32m    473\u001b[0m \u001b[38;5;28;01mwith\u001b[39;00m _print_elapsed_time(\u001b[38;5;124m\"\u001b[39m\u001b[38;5;124mPipeline\u001b[39m\u001b[38;5;124m\"\u001b[39m, \u001b[38;5;28mself\u001b[39m\u001b[38;5;241m.\u001b[39m_log_message(\u001b[38;5;28mlen\u001b[39m(\u001b[38;5;28mself\u001b[39m\u001b[38;5;241m.\u001b[39msteps) \u001b[38;5;241m-\u001b[39m \u001b[38;5;241m1\u001b[39m)):\n\u001b[0;32m    474\u001b[0m     \u001b[38;5;28;01mif\u001b[39;00m \u001b[38;5;28mself\u001b[39m\u001b[38;5;241m.\u001b[39m_final_estimator \u001b[38;5;241m!=\u001b[39m \u001b[38;5;124m\"\u001b[39m\u001b[38;5;124mpassthrough\u001b[39m\u001b[38;5;124m\"\u001b[39m:\n",
            "File \u001b[1;32m~\\AppData\\Local\\Packages\\PythonSoftwareFoundation.Python.3.12_qbz5n2kfra8p0\\LocalCache\\local-packages\\Python312\\site-packages\\sklearn\\pipeline.py:389\u001b[0m, in \u001b[0;36mPipeline._fit\u001b[1;34m(self, X, y, routed_params)\u001b[0m\n\u001b[0;32m    386\u001b[0m \u001b[38;5;28;01mdef\u001b[39;00m \u001b[38;5;21m_fit\u001b[39m(\u001b[38;5;28mself\u001b[39m, X, y\u001b[38;5;241m=\u001b[39m\u001b[38;5;28;01mNone\u001b[39;00m, routed_params\u001b[38;5;241m=\u001b[39m\u001b[38;5;28;01mNone\u001b[39;00m):\n\u001b[0;32m    387\u001b[0m     \u001b[38;5;66;03m# shallow copy of steps - this should really be steps_\u001b[39;00m\n\u001b[0;32m    388\u001b[0m     \u001b[38;5;28mself\u001b[39m\u001b[38;5;241m.\u001b[39msteps \u001b[38;5;241m=\u001b[39m \u001b[38;5;28mlist\u001b[39m(\u001b[38;5;28mself\u001b[39m\u001b[38;5;241m.\u001b[39msteps)\n\u001b[1;32m--> 389\u001b[0m     \u001b[38;5;28;43mself\u001b[39;49m\u001b[38;5;241;43m.\u001b[39;49m\u001b[43m_validate_steps\u001b[49m\u001b[43m(\u001b[49m\u001b[43m)\u001b[49m\n\u001b[0;32m    390\u001b[0m     \u001b[38;5;66;03m# Setup the memory\u001b[39;00m\n\u001b[0;32m    391\u001b[0m     memory \u001b[38;5;241m=\u001b[39m check_memory(\u001b[38;5;28mself\u001b[39m\u001b[38;5;241m.\u001b[39mmemory)\n",
            "File \u001b[1;32m~\\AppData\\Local\\Packages\\PythonSoftwareFoundation.Python.3.12_qbz5n2kfra8p0\\LocalCache\\local-packages\\Python312\\site-packages\\sklearn\\pipeline.py:247\u001b[0m, in \u001b[0;36mPipeline._validate_steps\u001b[1;34m(self)\u001b[0m\n\u001b[0;32m    244\u001b[0m names, estimators \u001b[38;5;241m=\u001b[39m \u001b[38;5;28mzip\u001b[39m(\u001b[38;5;241m*\u001b[39m\u001b[38;5;28mself\u001b[39m\u001b[38;5;241m.\u001b[39msteps)\n\u001b[0;32m    246\u001b[0m \u001b[38;5;66;03m# validate names\u001b[39;00m\n\u001b[1;32m--> 247\u001b[0m \u001b[38;5;28;43mself\u001b[39;49m\u001b[38;5;241;43m.\u001b[39;49m\u001b[43m_validate_names\u001b[49m\u001b[43m(\u001b[49m\u001b[43mnames\u001b[49m\u001b[43m)\u001b[49m\n\u001b[0;32m    249\u001b[0m \u001b[38;5;66;03m# validate estimators\u001b[39;00m\n\u001b[0;32m    250\u001b[0m transformers \u001b[38;5;241m=\u001b[39m estimators[:\u001b[38;5;241m-\u001b[39m\u001b[38;5;241m1\u001b[39m]\n",
            "File \u001b[1;32m~\\AppData\\Local\\Packages\\PythonSoftwareFoundation.Python.3.12_qbz5n2kfra8p0\\LocalCache\\local-packages\\Python312\\site-packages\\sklearn\\utils\\metaestimators.py:85\u001b[0m, in \u001b[0;36m_BaseComposition._validate_names\u001b[1;34m(self, names)\u001b[0m\n\u001b[0;32m     83\u001b[0m \u001b[38;5;28;01mdef\u001b[39;00m \u001b[38;5;21m_validate_names\u001b[39m(\u001b[38;5;28mself\u001b[39m, names):\n\u001b[0;32m     84\u001b[0m     \u001b[38;5;28;01mif\u001b[39;00m \u001b[38;5;28mlen\u001b[39m(\u001b[38;5;28mset\u001b[39m(names)) \u001b[38;5;241m!=\u001b[39m \u001b[38;5;28mlen\u001b[39m(names):\n\u001b[1;32m---> 85\u001b[0m         \u001b[38;5;28;01mraise\u001b[39;00m \u001b[38;5;167;01mValueError\u001b[39;00m(\u001b[38;5;124m\"\u001b[39m\u001b[38;5;124mNames provided are not unique: \u001b[39m\u001b[38;5;132;01m{0!r}\u001b[39;00m\u001b[38;5;124m\"\u001b[39m\u001b[38;5;241m.\u001b[39mformat(\u001b[38;5;28mlist\u001b[39m(names)))\n\u001b[0;32m     86\u001b[0m     invalid_names \u001b[38;5;241m=\u001b[39m \u001b[38;5;28mset\u001b[39m(names)\u001b[38;5;241m.\u001b[39mintersection(\u001b[38;5;28mself\u001b[39m\u001b[38;5;241m.\u001b[39mget_params(deep\u001b[38;5;241m=\u001b[39m\u001b[38;5;28;01mFalse\u001b[39;00m))\n\u001b[0;32m     87\u001b[0m     \u001b[38;5;28;01mif\u001b[39;00m invalid_names:\n",
            "\u001b[1;31mValueError\u001b[0m: Names provided are not unique: ['ImpCol1Col2', 'LR', 'LR']"
          ]
        }
      ],
      "source": [
        "# Ejemplo como agregar y evaluar modelo\n",
        "from sklearn.linear_model import LogisticRegression\n",
        "pl.steps.append((\"LR\", LogisticRegression( max_iter=3000 )))\n",
        "pl.fit(X_train_nuevo, y_train)\n",
        "y_pred = pl.predict(X_test_nuevo)\n",
        "print(classification_report(y_test, y_pred))\n",
        "\n",
        "# ESTO ULTIMO NO ME ANDA PREGUNTALE AL PROFE\n",
        "# https://stackoverflow.com/questions/54836051/pipeline-ordinalencoder-valueerror-found-unknown-categories"
      ]
    },
    {
      "cell_type": "markdown",
      "metadata": {},
      "source": [
        "## Evaluacion de nacho\n",
        "\n",
        "Nacho probo con estos imputers scalers etc los dejo aca pero hay que moverlo a la parte de evaluacion de modelos"
      ]
    },
    {
      "cell_type": "code",
      "execution_count": null,
      "metadata": {},
      "outputs": [],
      "source": [
        "df_norm = df\n",
        "df_norm['LVL'].replace(1000000, None)\n",
        "# Reemplazar los valores NaN por 'Desconocido' en Genero\n",
        "df_norm[\"Genero\"].fillna('Desconocido', inplace=True)\n",
        "\n",
        "\n",
        "# Reemplazar los valores NaN por 'Desconocido' en Edad\n",
        "#df_norm[\"Edad\"].fillna('Desconocido', inplace=True)\n",
        "\n",
        "# Ejemplo como llamar varios imputers/scalers en un Pipeline\n",
        "X = df_norm.drop(\"target\", axis=1)\n",
        "y = df_norm[\"target\"]\n",
        "\n",
        "X_train_norm, X_test_norm, y_train, y_test = train_test_split(X, y, random_state=3, test_size=0.3)\n",
        "\n",
        "\n",
        "\n",
        "pl = Pipeline(steps=[\n",
        "    (\"ImpCol1Col2\", ColImputer(imputer=SimpleImputer(strategy='mean'), columns=[\"LVL\"])),\n",
        "    (\"ImpCol1Col3\", ColImputer(imputer=SimpleImputer(strategy='mean'), columns=[\"Edad\"])),\n",
        "    (\"OrdinalEncoder\", ColDummy(columns=[\"Laboral\"])),\n",
        "    (\"OrdinalEncoder2\", ColDummy(columns=[\"Genero\"])),\n",
        "    (\"scaler\", ColScaler(scaler=MinMaxScaler(), columns=[\"BLD03\"])),\n",
        "    (\"scaler2\", ColScaler(scaler=MinMaxScaler(), columns=[\"BLD02\"])),\n",
        "    (\"scaler3\", ColScaler(scaler=MinMaxScaler(), columns=[\"BLD01\"])),\n",
        "    (\"scaler4\", ColScaler(scaler=MinMaxScaler(), columns=[\"LVL\"]))\n",
        "])\n",
        "\n",
        "pl.fit(X_train_norm, y_train)\n",
        "X_train = pl.transform(X_train_norm)\n",
        "X_test = pl.transform(X_test_norm)\n",
        "\n",
        "X_train"
      ]
    }
  ],
  "metadata": {
    "colab": {
      "include_colab_link": true,
      "provenance": []
    },
    "kernelspec": {
      "display_name": "Python 3",
      "language": "python",
      "name": "python3"
    },
    "language_info": {
      "codemirror_mode": {
        "name": "ipython",
        "version": 3
      },
      "file_extension": ".py",
      "mimetype": "text/x-python",
      "name": "python",
      "nbconvert_exporter": "python",
      "pygments_lexer": "ipython3",
      "version": "3.12.4"
    }
  },
  "nbformat": 4,
  "nbformat_minor": 0
}
